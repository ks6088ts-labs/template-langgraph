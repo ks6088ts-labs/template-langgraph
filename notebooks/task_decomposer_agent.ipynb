{
 "cells": [
  {
   "cell_type": "code",
   "execution_count": 1,
   "id": "0e39a91d",
   "metadata": {},
   "outputs": [],
   "source": [
    "import logging\n",
    "\n",
    "from dotenv import load_dotenv\n",
    "\n",
    "from template_langgraph.loggers import get_logger\n",
    "\n",
    "_ = load_dotenv(\n",
    "    override=True,\n",
    "    verbose=True,\n",
    ")\n",
    "\n",
    "logger = get_logger(__name__)\n",
    "logger.setLevel(logging.DEBUG)"
   ]
  },
  {
   "cell_type": "code",
   "execution_count": 2,
   "id": "99752cfa-f5dc-4005-9afe-9dccc4b9437e",
   "metadata": {},
   "outputs": [],
   "source": [
    "from template_langgraph.agents.task_decomposer_agent.agent import TaskDecomposerAgent\n",
    "\n",
    "# Create an instance of the agent\n",
    "graph = TaskDecomposerAgent().create_graph()"
   ]
  },
  {
   "cell_type": "code",
   "execution_count": 3,
   "id": "cca69f35-fea9-4a4d-a20c-aa6d9a8b1b47",
   "metadata": {},
   "outputs": [
    {
     "data": {
      "image/png": "[encoded data removed]",
      "text/plain": [
       "<IPython.core.display.Image object>"
      ]
     },
     "metadata": {},
     "output_type": "display_data"
    }
   ],
   "source": [
    "from IPython.display import Image, display\n",
    "\n",
    "display(Image(graph.get_graph().draw_mermaid_png()))"
   ]
  },
  {
   "cell_type": "code",
   "execution_count": 4,
   "id": "1e620cca",
   "metadata": {},
   "outputs": [
    {
     "name": "stderr",
     "output_type": "stream",
     "text": [
      "2025-08-14 11:50:26,833 [    INFO] Chatting with tools using state: {'messages': [HumanMessage(content='KABUTOにログインできない。パスワードは合ってるはずなのに…若手社員である山田太郎は、Windows 11 を立ち上げ、日課のように自社の業務システムKABUTOのログイン画面を開きます。しかし、そこには、意味をなさない「虚無」という文字だけがただひっそりと表示されていたのです。これは質問でもあり不具合の報告でもあります。岡本太郎さんに本件調査依頼します。', additional_kwargs={}, response_metadata={}, id='b3beb4d8-213c-4029-a39a-24330f188a4f')]} (agent.py:41)\n",
      "2025-08-14 11:50:30,729 [    INFO] Decomposed tasks: tasks=[Task(title='Investigating KABUTO Login Issue', description=\"Research the reported login issue where users are unable to log in despite correct passwords, and a cryptic message '虚無' is displayed.\", priority=1, due_date='2023-10-15', assigned_to='岡本太郎'), Task(title='Password Verification Process', description='Verify the process for password validation to ensure there are no errors in the logic or database look-up processes.', priority=2, due_date='2023-10-16', assigned_to='岡本太郎'), Task(title='System Error Analysis', description=\"Analyze system logs and error codes related to '虚無' appearing on the KABUTO login screen to identify any server-side issues.\", priority=3, due_date='2023-10-17', assigned_to='岡本太郎'), Task(title='Cross-Platform Compatibility Check', description='Investigate if the issue is specific to Windows 11 or affects other operating systems and devices.', priority=4, due_date='2023-10-18', assigned_to='岡本太郎'), Task(title='User Experience Assessment', description='Survey users to gather more detailed reports about the experience and verify if this issue affects others.', priority=5, due_date='2023-10-19', assigned_to='岡本太郎')] (agent.py:47)\n",
      "2025-08-14 11:50:30,731 [    INFO] -------------------- (3539315515.py:11)\n",
      "2025-08-14 11:50:30,731 [    INFO] Event: {'chat': {'messages': [HumanMessage(content='KABUTOにログインできない。パスワードは合ってるはずなのに…若手社員である山田太郎は、Windows 11 を立ち上げ、日課のように自社の業務システムKABUTOのログイン画面を開きます。しかし、そこには、意味をなさない「虚無」という文字だけがただひっそりと表示されていたのです。これは質問でもあり不具合の報告でもあります。岡本太郎さんに本件調査依頼します。', additional_kwargs={}, response_metadata={}, id='b3beb4d8-213c-4029-a39a-24330f188a4f')], 'task_list': TaskList(tasks=[Task(title='Investigating KABUTO Login Issue', description=\"Research the reported login issue where users are unable to log in despite correct passwords, and a cryptic message '虚無' is displayed.\", priority=1, due_date='2023-10-15', assigned_to='岡本太郎'), Task(title='Password Verification Process', description='Verify the process for password validation to ensure there are no errors in the logic or database look-up processes.', priority=2, due_date='2023-10-16', assigned_to='岡本太郎'), Task(title='System Error Analysis', description=\"Analyze system logs and error codes related to '虚無' appearing on the KABUTO login screen to identify any server-side issues.\", priority=3, due_date='2023-10-17', assigned_to='岡本太郎'), Task(title='Cross-Platform Compatibility Check', description='Investigate if the issue is specific to Windows 11 or affects other operating systems and devices.', priority=4, due_date='2023-10-18', assigned_to='岡本太郎'), Task(title='User Experience Assessment', description='Survey users to gather more detailed reports about the experience and verify if this issue affects others.', priority=5, due_date='2023-10-19', assigned_to='岡本太郎')])}} (3539315515.py:12)\n",
      "2025-08-14 11:50:30,731 [    INFO] -------------------- (3539315515.py:13)\n",
      "2025-08-14 11:50:30,732 [    INFO] Event: {'chat': {'messages': [HumanMessage(content='KABUTOにログインできない。パスワードは合ってるはずなのに…若手社員である山田太郎は、Windows 11 を立ち上げ、日課のように自社の業務システムKABUTOのログイン画面を開きます。しかし、そこには、意味をなさない「虚無」という文字だけがただひっそりと表示されていたのです。これは質問でもあり不具合の報告でもあります。岡本太郎さんに本件調査依頼します。', additional_kwargs={}, response_metadata={}, id='b3beb4d8-213c-4029-a39a-24330f188a4f')], 'task_list': TaskList(tasks=[Task(title='Investigating KABUTO Login Issue', description=\"Research the reported login issue where users are unable to log in despite correct passwords, and a cryptic message '虚無' is displayed.\", priority=1, due_date='2023-10-15', assigned_to='岡本太郎'), Task(title='Password Verification Process', description='Verify the process for password validation to ensure there are no errors in the logic or database look-up processes.', priority=2, due_date='2023-10-16', assigned_to='岡本太郎'), Task(title='System Error Analysis', description=\"Analyze system logs and error codes related to '虚無' appearing on the KABUTO login screen to identify any server-side issues.\", priority=3, due_date='2023-10-17', assigned_to='岡本太郎'), Task(title='Cross-Platform Compatibility Check', description='Investigate if the issue is specific to Windows 11 or affects other operating systems and devices.', priority=4, due_date='2023-10-18', assigned_to='岡本太郎'), Task(title='User Experience Assessment', description='Survey users to gather more detailed reports about the experience and verify if this issue affects others.', priority=5, due_date='2023-10-19', assigned_to='岡本太郎')])}} (3539315515.py:14)\n",
      "2025-08-14 11:50:30,732 [    INFO] Handling human feedback with state: {'messages': [HumanMessage(content='KABUTOにログインできない。パスワードは合ってるはずなのに…若手社員である山田太郎は、Windows 11 を立ち上げ、日課のように自社の業務システムKABUTOのログイン画面を開きます。しかし、そこには、意味をなさない「虚無」という文字だけがただひっそりと表示されていたのです。これは質問でもあり不具合の報告でもあります。岡本太郎さんに本件調査依頼します。', additional_kwargs={}, response_metadata={}, id='b3beb4d8-213c-4029-a39a-24330f188a4f')], 'task_list': TaskList(tasks=[Task(title='Investigating KABUTO Login Issue', description=\"Research the reported login issue where users are unable to log in despite correct passwords, and a cryptic message '虚無' is displayed.\", priority=1, due_date='2023-10-15', assigned_to='岡本太郎'), Task(title='Password Verification Process', description='Verify the process for password validation to ensure there are no errors in the logic or database look-up processes.', priority=2, due_date='2023-10-16', assigned_to='岡本太郎'), Task(title='System Error Analysis', description=\"Analyze system logs and error codes related to '虚無' appearing on the KABUTO login screen to identify any server-side issues.\", priority=3, due_date='2023-10-17', assigned_to='岡本太郎'), Task(title='Cross-Platform Compatibility Check', description='Investigate if the issue is specific to Windows 11 or affects other operating systems and devices.', priority=4, due_date='2023-10-18', assigned_to='岡本太郎'), Task(title='User Experience Assessment', description='Survey users to gather more detailed reports about the experience and verify if this issue affects others.', priority=5, due_date='2023-10-19', assigned_to='岡本太郎')])} (agent.py:52)\n",
      "2025-08-14 11:50:30,733 [    INFO] -------------------- (3539315515.py:11)\n",
      "2025-08-14 11:50:30,733 [    INFO] Event: {'__interrupt__': (Interrupt(value=\"Type your feedback. If you want to end the conversation, type 'end'.\", id='985145d6878dd5ccc82caa03adaa58b4'),)} (3539315515.py:12)\n",
      "2025-08-14 11:50:30,734 [    INFO] -------------------- (3539315515.py:13)\n",
      "2025-08-14 11:50:30,734 [    INFO] Event: {'__interrupt__': (Interrupt(value=\"Type your feedback. If you want to end the conversation, type 'end'.\", id='985145d6878dd5ccc82caa03adaa58b4'),)} (3539315515.py:14)\n"
     ]
    }
   ],
   "source": [
    "for event in graph.stream(\n",
    "    input={\n",
    "        \"messages\": [\n",
    "            {\n",
    "                \"role\": \"user\",\n",
    "                \"content\": \"KABUTOにログインできない。パスワードは合ってるはずなのに…若手社員である山田太郎は、Windows 11 を立ち上げ、日課のように自社の業務システムKABUTOのログイン画面を開きます。しかし、そこには、意味をなさない「虚無」という文字だけがただひっそりと表示されていたのです。これは質問でもあり不具合の報告でもあります。岡本太郎さんに本件調査依頼します。\",  # noqa: E501\n",
    "            }\n",
    "        ],\n",
    "    }\n",
    "):\n",
    "    logger.info(\"-\" * 20)\n",
    "    logger.info(f\"Event: {event}\")\n",
    "    logger.info(\"-\" * 20)\n",
    "    logger.info(f\"Event: {event}\")"
   ]
  },
  {
   "cell_type": "code",
   "execution_count": 5,
   "id": "c6c68866",
   "metadata": {},
   "outputs": [
    {
     "data": {
      "text/plain": [
       "{'__interrupt__': (Interrupt(value=\"Type your feedback. If you want to end the conversation, type 'end'.\", id='985145d6878dd5ccc82caa03adaa58b4'),)}"
      ]
     },
     "execution_count": 5,
     "metadata": {},
     "output_type": "execute_result"
    }
   ],
   "source": [
    "event"
   ]
  }
 ],
 "metadata": {
  "kernelspec": {
   "display_name": "Python 3 (ipykernel)",
   "language": "python",
   "name": "python3"
  },
  "language_info": {
   "codemirror_mode": {
    "name": "ipython",
    "version": 3
   },
   "file_extension": ".py",
   "mimetype": "text/x-python",
   "name": "python",
   "nbconvert_exporter": "python",
   "pygments_lexer": "ipython3",
   "version": "3.12.0"
  }
 },
 "nbformat": 4,
 "nbformat_minor": 5
}
