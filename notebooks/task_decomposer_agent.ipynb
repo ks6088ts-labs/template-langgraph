{
 "cells": [
  {
   "cell_type": "code",
   "execution_count": 1,
   "id": "0e39a91d",
   "metadata": {},
   "outputs": [],
   "source": [
    "import logging\n",
    "\n",
    "from dotenv import load_dotenv\n",
    "\n",
    "from template_langgraph.loggers import get_logger\n",
    "\n",
    "_ = load_dotenv(\n",
    "    override=True,\n",
    "    verbose=True,\n",
    ")\n",
    "\n",
    "logger = get_logger(__name__)\n",
    "logger.setLevel(logging.DEBUG)"
   ]
  },
  {
   "cell_type": "code",
   "execution_count": 2,
   "id": "1e620cca",
   "metadata": {},
   "outputs": [
    {
     "name": "stderr",
     "output_type": "stream",
     "text": [
      "2025-08-14 11:36:29,578 [    INFO] Chatting with tools using state: {'messages': [HumanMessage(content='KABUTOにログインできない。パスワードは合ってるはずなのに…若手社員である山田太郎は、Windows 11 を立ち上げ、日課のように自社の業務システムKABUTOのログイン画面を開きます。しかし、そこには、意味をなさない「虚無」という文字だけがただひっそりと表示されていたのです。これは質問でもあり不具合の報告でもあります。岡本太郎さんに本件調査依頼します。', additional_kwargs={}, response_metadata={}, id='3bd74e98-ae20-427e-90de-4b38234826cb')]} (agent.py:41)\n",
      "2025-08-14 11:36:34,105 [    INFO] Decomposed tasks: tasks=[Task(title='Investigate KABUTO Login Issue', description=\"Investigate the login issue experienced by Yamada Taro with the KABUTO system. Analyze the situation where the system displays text '虚無' instead of the login interface.\", priority=1, due_date='2023-10-31', assigned_to='Okamoto Taro'), Task(title='Identify Possible Causes', description='Compile a list of potential reasons for the login issue, including system errors, network problems, and authentication failures related to Windows 11 compatibility.', priority=2, due_date='2023-10-25', assigned_to='Okamoto Taro'), Task(title='Check System Logs', description=\"Access KABUTO's system logs to identify any anomalies that might be causing the login issue. Pay special attention to logs generated during Taro’s login attempts.\", priority=2, due_date='2023-10-26', assigned_to='Okamoto Taro'), Task(title='Test Login Process', description='Conduct tests on the KABUTO system using different accounts and devices to determine if the issue is isolated or widespread.', priority=3, due_date='2023-10-27', assigned_to='Okamoto Taro'), Task(title='Consult IT Support', description='Coordinate with IT support to get their insights on the system configuration and any recent updates that could have affected the login process.', priority=2, due_date='2023-10-26', assigned_to='Okamoto Taro'), Task(title='Compile Report', description='Compile a detailed report outlining the findings of the investigation, including potential solutions to resolve the login issue for Yamada Taro and ensure system stability.', priority=1, due_date='2023-11-03', assigned_to='Okamoto Taro')] (agent.py:47)\n",
      "2025-08-14 11:36:34,106 [    INFO] -------------------- (2530209947.py:15)\n",
      "2025-08-14 11:36:34,107 [    INFO] Event: {'chat': {'messages': [HumanMessage(content='KABUTOにログインできない。パスワードは合ってるはずなのに…若手社員である山田太郎は、Windows 11 を立ち上げ、日課のように自社の業務システムKABUTOのログイン画面を開きます。しかし、そこには、意味をなさない「虚無」という文字だけがただひっそりと表示されていたのです。これは質問でもあり不具合の報告でもあります。岡本太郎さんに本件調査依頼します。', additional_kwargs={}, response_metadata={}, id='3bd74e98-ae20-427e-90de-4b38234826cb')], 'task_list': TaskList(tasks=[Task(title='Investigate KABUTO Login Issue', description=\"Investigate the login issue experienced by Yamada Taro with the KABUTO system. Analyze the situation where the system displays text '虚無' instead of the login interface.\", priority=1, due_date='2023-10-31', assigned_to='Okamoto Taro'), Task(title='Identify Possible Causes', description='Compile a list of potential reasons for the login issue, including system errors, network problems, and authentication failures related to Windows 11 compatibility.', priority=2, due_date='2023-10-25', assigned_to='Okamoto Taro'), Task(title='Check System Logs', description=\"Access KABUTO's system logs to identify any anomalies that might be causing the login issue. Pay special attention to logs generated during Taro’s login attempts.\", priority=2, due_date='2023-10-26', assigned_to='Okamoto Taro'), Task(title='Test Login Process', description='Conduct tests on the KABUTO system using different accounts and devices to determine if the issue is isolated or widespread.', priority=3, due_date='2023-10-27', assigned_to='Okamoto Taro'), Task(title='Consult IT Support', description='Coordinate with IT support to get their insights on the system configuration and any recent updates that could have affected the login process.', priority=2, due_date='2023-10-26', assigned_to='Okamoto Taro'), Task(title='Compile Report', description='Compile a detailed report outlining the findings of the investigation, including potential solutions to resolve the login issue for Yamada Taro and ensure system stability.', priority=1, due_date='2023-11-03', assigned_to='Okamoto Taro')])}} (2530209947.py:16)\n",
      "2025-08-14 11:36:34,108 [    INFO] -------------------- (2530209947.py:17)\n",
      "2025-08-14 11:36:34,108 [    INFO] Event: {'chat': {'messages': [HumanMessage(content='KABUTOにログインできない。パスワードは合ってるはずなのに…若手社員である山田太郎は、Windows 11 を立ち上げ、日課のように自社の業務システムKABUTOのログイン画面を開きます。しかし、そこには、意味をなさない「虚無」という文字だけがただひっそりと表示されていたのです。これは質問でもあり不具合の報告でもあります。岡本太郎さんに本件調査依頼します。', additional_kwargs={}, response_metadata={}, id='3bd74e98-ae20-427e-90de-4b38234826cb')], 'task_list': TaskList(tasks=[Task(title='Investigate KABUTO Login Issue', description=\"Investigate the login issue experienced by Yamada Taro with the KABUTO system. Analyze the situation where the system displays text '虚無' instead of the login interface.\", priority=1, due_date='2023-10-31', assigned_to='Okamoto Taro'), Task(title='Identify Possible Causes', description='Compile a list of potential reasons for the login issue, including system errors, network problems, and authentication failures related to Windows 11 compatibility.', priority=2, due_date='2023-10-25', assigned_to='Okamoto Taro'), Task(title='Check System Logs', description=\"Access KABUTO's system logs to identify any anomalies that might be causing the login issue. Pay special attention to logs generated during Taro’s login attempts.\", priority=2, due_date='2023-10-26', assigned_to='Okamoto Taro'), Task(title='Test Login Process', description='Conduct tests on the KABUTO system using different accounts and devices to determine if the issue is isolated or widespread.', priority=3, due_date='2023-10-27', assigned_to='Okamoto Taro'), Task(title='Consult IT Support', description='Coordinate with IT support to get their insights on the system configuration and any recent updates that could have affected the login process.', priority=2, due_date='2023-10-26', assigned_to='Okamoto Taro'), Task(title='Compile Report', description='Compile a detailed report outlining the findings of the investigation, including potential solutions to resolve the login issue for Yamada Taro and ensure system stability.', priority=1, due_date='2023-11-03', assigned_to='Okamoto Taro')])}} (2530209947.py:18)\n",
      "2025-08-14 11:36:34,109 [    INFO] Handling human feedback with state: {'messages': [HumanMessage(content='KABUTOにログインできない。パスワードは合ってるはずなのに…若手社員である山田太郎は、Windows 11 を立ち上げ、日課のように自社の業務システムKABUTOのログイン画面を開きます。しかし、そこには、意味をなさない「虚無」という文字だけがただひっそりと表示されていたのです。これは質問でもあり不具合の報告でもあります。岡本太郎さんに本件調査依頼します。', additional_kwargs={}, response_metadata={}, id='3bd74e98-ae20-427e-90de-4b38234826cb')], 'task_list': TaskList(tasks=[Task(title='Investigate KABUTO Login Issue', description=\"Investigate the login issue experienced by Yamada Taro with the KABUTO system. Analyze the situation where the system displays text '虚無' instead of the login interface.\", priority=1, due_date='2023-10-31', assigned_to='Okamoto Taro'), Task(title='Identify Possible Causes', description='Compile a list of potential reasons for the login issue, including system errors, network problems, and authentication failures related to Windows 11 compatibility.', priority=2, due_date='2023-10-25', assigned_to='Okamoto Taro'), Task(title='Check System Logs', description=\"Access KABUTO's system logs to identify any anomalies that might be causing the login issue. Pay special attention to logs generated during Taro’s login attempts.\", priority=2, due_date='2023-10-26', assigned_to='Okamoto Taro'), Task(title='Test Login Process', description='Conduct tests on the KABUTO system using different accounts and devices to determine if the issue is isolated or widespread.', priority=3, due_date='2023-10-27', assigned_to='Okamoto Taro'), Task(title='Consult IT Support', description='Coordinate with IT support to get their insights on the system configuration and any recent updates that could have affected the login process.', priority=2, due_date='2023-10-26', assigned_to='Okamoto Taro'), Task(title='Compile Report', description='Compile a detailed report outlining the findings of the investigation, including potential solutions to resolve the login issue for Yamada Taro and ensure system stability.', priority=1, due_date='2023-11-03', assigned_to='Okamoto Taro')])} (agent.py:52)\n",
      "2025-08-14 11:36:34,109 [    INFO] -------------------- (2530209947.py:15)\n",
      "2025-08-14 11:36:34,109 [    INFO] Event: {'__interrupt__': (Interrupt(value=\"Type your feedback. If you want to end the conversation, type 'end'.\", id='f897eec7c7c8ae85cd90991bd25cad4e'),)} (2530209947.py:16)\n",
      "2025-08-14 11:36:34,110 [    INFO] -------------------- (2530209947.py:17)\n",
      "2025-08-14 11:36:34,110 [    INFO] Event: {'__interrupt__': (Interrupt(value=\"Type your feedback. If you want to end the conversation, type 'end'.\", id='f897eec7c7c8ae85cd90991bd25cad4e'),)} (2530209947.py:18)\n"
     ]
    }
   ],
   "source": [
    "from template_langgraph.agents.task_decomposer_agent.agent import TaskDecomposerAgent\n",
    "\n",
    "# Create an instance of the agent\n",
    "graph = TaskDecomposerAgent().create_graph()\n",
    "for event in graph.stream(\n",
    "    input={\n",
    "        \"messages\": [\n",
    "            {\n",
    "                \"role\": \"user\",\n",
    "                \"content\": \"KABUTOにログインできない。パスワードは合ってるはずなのに…若手社員である山田太郎は、Windows 11 を立ち上げ、日課のように自社の業務システムKABUTOのログイン画面を開きます。しかし、そこには、意味をなさない「虚無」という文字だけがただひっそりと表示されていたのです。これは質問でもあり不具合の報告でもあります。岡本太郎さんに本件調査依頼します。\",  # noqa: E501\n",
    "            }\n",
    "        ],\n",
    "    }\n",
    "):\n",
    "    logger.info(\"-\" * 20)\n",
    "    logger.info(f\"Event: {event}\")\n",
    "    logger.info(\"-\" * 20)\n",
    "    logger.info(f\"Event: {event}\")"
   ]
  },
  {
   "cell_type": "code",
   "execution_count": 3,
   "id": "c6c68866",
   "metadata": {},
   "outputs": [
    {
     "data": {
      "text/plain": [
       "{'__interrupt__': (Interrupt(value=\"Type your feedback. If you want to end the conversation, type 'end'.\", id='f897eec7c7c8ae85cd90991bd25cad4e'),)}"
      ]
     },
     "execution_count": 3,
     "metadata": {},
     "output_type": "execute_result"
    }
   ],
   "source": [
    "event"
   ]
  }
 ],
 "metadata": {
  "kernelspec": {
   "display_name": "Python 3 (ipykernel)",
   "language": "python",
   "name": "python3"
  },
  "language_info": {
   "codemirror_mode": {
    "name": "ipython",
    "version": 3
   },
   "file_extension": ".py",
   "mimetype": "text/x-python",
   "name": "python",
   "nbconvert_exporter": "python",
   "pygments_lexer": "ipython3",
   "version": "3.12.0"
  }
 },
 "nbformat": 4,
 "nbformat_minor": 5
}
