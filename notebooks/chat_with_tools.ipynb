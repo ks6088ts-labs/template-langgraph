{
 "cells": [
  {
   "cell_type": "code",
   "execution_count": 1,
   "id": "1f4d669f",
   "metadata": {},
   "outputs": [],
   "source": [
    "from dotenv import load_dotenv\n",
    "\n",
    "_ = load_dotenv(\n",
    "    override=True,\n",
    "    verbose=True,\n",
    ")"
   ]
  },
  {
   "cell_type": "code",
   "execution_count": 2,
   "id": "1e7aea7c-3965-4c2c-b2d5-da9b01598d47",
   "metadata": {},
   "outputs": [],
   "source": [
    "from template_langgraph.agents.chat_with_tools_agent.agent import ChatWithToolsAgent\n",
    "\n",
    "# Create an instance of the agent\n",
    "agent = ChatWithToolsAgent().create_graph()"
   ]
  },
  {
   "cell_type": "code",
   "execution_count": 3,
   "id": "21bd80ab",
   "metadata": {},
   "outputs": [
    {
     "name": "stdout",
     "output_type": "stream",
     "text": [
      "--------------------\n",
      "Event: {'chat_with_tools': {'messages': [AIMessage(content='', additional_kwargs={'tool_calls': [{'index': 0, 'id': 'call_nHBbATIpo8KOiVnP1BnQ3k9h', 'function': {'arguments': '{\"keywords\": \"鬼灯 KABUTO 停止 原因 対策\"}', 'name': 'search_qdrant'}, 'type': 'function'}, {'index': 1, 'id': 'call_YKc0ttX8N9HRMMB0pxhXcCgU', 'function': {'arguments': '{\"keywords\": \"鬼灯 KABUTO 停止 原因 対策\"}', 'name': 'search_elasticsearch'}, 'type': 'function'}]}, response_metadata={'finish_reason': 'tool_calls', 'model_name': 'gpt-4o-2024-11-20', 'system_fingerprint': 'fp_ee1d74bde0'}, id='run--dbe68e96-2aaa-49b8-a191-125d6ab3cb86-0', tool_calls=[{'name': 'search_qdrant', 'args': {'keywords': '鬼灯 KABUTO 停止 原因 対策'}, 'id': 'call_nHBbATIpo8KOiVnP1BnQ3k9h', 'type': 'tool_call'}, {'name': 'search_elasticsearch', 'args': {'keywords': '鬼灯 KABUTO 停止 原因 対策'}, 'id': 'call_YKc0ttX8N9HRMMB0pxhXcCgU', 'type': 'tool_call'}])]}}\n",
      "--------------------\n",
      "Event: {'tools': {'messages': [ToolMessage(content='\"[QdrantOutput(file_name=\\'./data/qa_kabuto.csv\\', content=\\'q: 特定のアプリケーション「鬼灯」を実行すると、KABUTOのファンが急に停止し、無音になります。 a: 「鬼灯」は、その特殊な演算処理において、KABUTOの冷却システム「風魔の術」を一時的に停止させ、内部エネルギーの流れを最適化する機能を持っています。これは異常ではありません。ただし、無音状態が15分以上続く場合は、過熱の可能性があるため、アプリケーションを強制終了し、KABUTO本体の電源を一度切ってから再起動してください。\\'), QdrantOutput(file_name=\\'./data/qa_kabuto.csv\\', content=\\'q: KABUTOの電源ランプが、赤と青の交互点滅ではなく、緑色で点滅しています。 a: 通常、電源ランプは赤（待機中）と青（稼働中）の点滅を繰り返します。緑色の点滅は、KABUTOが「禅モード」に入っており、パフォーマンスを最小限に抑え、バックグラウンドでシステム自己修復を行っている状態を示します。この状態では、ユーザー操作はほとんど受け付けられません。このモードから強制的に脱出するには、KABUTO本体の「龍玉」ボタンを5秒以上長押ししてください。\\'), QdrantOutput(file_name=\\'./data/qa_kabuto.csv\\', content=\\'q: KABUTOの画面の隅に、時々「狐火」のような光の点が、不規則に現れては消えます。 a: 「狐火」は、KABUTOの演算コア「稲荷」が、膨大な量のタスクを処理しきれずに、一部の計算結果が視覚的なノイズとして現れている現象です。これは、システム負荷が高いことを示しています。この現象が頻繁に発生する場合は、バックグラウンドで動作している不要なアプリケーションを終了させるか、KABUTOを再起動してください。\\')]\"', name='search_qdrant', id='ceeb6a9a-f0e9-4d18-8645-40146eda7705', tool_call_id='call_nHBbATIpo8KOiVnP1BnQ3k9h'), ToolMessage(content='\"[ElasticsearchOutput(file_name=\\'docs_kabuto.pdf\\', content=\\'docs_kabuto.md 2025-08-01\\\\\\\\n2 / 3\\\\\\\\nた場合、「虚無」エラーが表⽰され、ログインは拒否される。これは疲労やストレスによる精神状態の変化が原因で\\\\\\\\nある可能性があり、深呼吸による精神状態の安定化が解決策となる。\\\\\\\\n3.3 ネットワーク・通信\\\\\\\\nネットワークモジュール「隠れ蓑」は、外部からの不必要なスキャンを回避するため、デフォルトでステルスモード\\\\\\\\nで動作する。これにより、ネットワーク上の他のデバイスから認識されない状態となる。 KABUTO をネットワーク上\\\\\\\\nで可視化させるには、ネットワーク設定画⾯から「忍びの道」オプションを有効にする必要がある。\\\\\\\\n3.4 演算コア\\'), ElasticsearchOutput(file_name=\\'docs_kabuto.pdf\\', content=\\'る。これにより、漢字で表⽰されている特定のフォルダ名が、ひらがなとして読み取られる現象が発⽣する。この問\\\\\\\\n題を解消するには、システム設定にて「読み⽅優先モード」を⼀時的に無効化する必要がある。\\\\\\\\n4.2 ⼊⼒・ AI アシスタント\\\\\\\\n内蔵 AI アシスタント「ヤタガラス」は、ユーザーの⼊⼒内容を予測し、システムの基幹⾔語である「KABUTO 語」に\\\\\\\\n最適化しようとする機能を持つ。これにより、特定の⽂字が⾃動的にカタカナに変換される現象が発⽣する。この機\\\\\\\\n能を⼀時的に停⽌するには、⼊⼒中にCtrlキーとShiftキーを同時に押しながら「 KABUTO 」と⼊⼒する。\\\\\\\\n4.3 スクリーンショット機能\\'), ElasticsearchOutput(file_name=\\'docs_kabuto.pdf\\', content=\\'「⻤灯」の実⾏中は、冷却システムが⼀時的に停⽌し、無⾳となる。これは内部エネルギーの流れを最適化するため\\\\\\\\nの仕様であり、異常ではない。ただし、この無⾳状態が 15 分以上継続する場合は、過熱の可能性があるため、アプリ\\\\\\\\nケーションの強制終了およびシステムの再起動が推奨される。\\\\\\\\n第 3 章  ソフトウェア・オペレーション\\\\\\\\n3.1 起動プロトコル\\\\\\\\nKABUTO の起動シーケンスは、「シノビ・プロトコル」に基づき実⾏される。このプロトコルの初期化フェーズで、\\\\\\\\n内部クロックと接続された外部周辺機器のクロックとの同期に失敗した場合、画⾯全体が紫⾊に点滅し、システムが\\')]\"', name='search_elasticsearch', id='071645ce-1c0c-48b7-80e2-d583e1dc2ba4', tool_call_id='call_YKc0ttX8N9HRMMB0pxhXcCgU')]}}\n",
      "--------------------\n",
      "Event: {'chat_with_tools': {'messages': [AIMessage(content='「鬼灯」を実行するとKABUTOが急に停止する問題について、以下の情報を基に原因と対策を説明します。\\n\\n### 原因\\n1. **「鬼灯」の特性**:\\n   - 「鬼灯」はKABUTOの冷却システム「風魔の術」を一時的に停止させ、内部エネルギーの流れを最適化する機能を持っています。これは異常ではなく、設計上の仕様です。\\n   - ただし、この状態が15分以上続く場合、過熱の可能性があり、システムが停止することがあります。\\n\\n2. **過熱のリスク**:\\n   - 冷却システムが停止している間に、内部エネルギーの流れが適切に管理されない場合、過熱が発生し、システムが安全のために停止することがあります。\\n\\n### 対策\\n1. **短時間での操作**:\\n   - 「鬼灯」を実行する際は、無音状態が15分以上続かないように注意してください。\\n\\n2. **強制終了と再起動**:\\n   - 無音状態が15分以上続いた場合は、以下の手順を実行してください：\\n     - アプリケーションを強制終了する。\\n     - KABUTO本体の電源を一度切り、再起動する。\\n\\n3. **冷却システムの確認**:\\n   - 冷却システム「風魔の術」が正常に動作しているか確認してください。\\n   - 必要に応じて、冷却システムのメンテナンスを行うことを推奨します。\\n\\n4. **システムログの確認**:\\n   - システムログを確認し、過熱やエラーの兆候がないかチェックしてください。\\n\\nこれらの対策を講じることで、「鬼灯」を安全に使用できるようになります。', additional_kwargs={}, response_metadata={'finish_reason': 'stop', 'model_name': 'gpt-4o-2024-11-20', 'system_fingerprint': 'fp_ee1d74bde0'}, id='run--d55f49c2-e903-4caf-af0c-70ef835cebc4-0')]}}\n"
     ]
    }
   ],
   "source": [
    "question = \"「鬼灯」を実行すると、KABUTOが急に停止します。原因と対策を教えてください。\"\n",
    "\n",
    "# Stream the agent's response to the question\n",
    "for event in agent.stream(\n",
    "    input={\n",
    "        \"messages\": [\n",
    "            {\n",
    "                \"role\": \"user\",\n",
    "                \"content\": question,\n",
    "            }\n",
    "        ],\n",
    "    }\n",
    "):\n",
    "    print(\"-\" * 20)\n",
    "    print(f\"Event: {event}\")"
   ]
  },
  {
   "cell_type": "code",
   "execution_count": 4,
   "id": "53219c94",
   "metadata": {},
   "outputs": [
    {
     "name": "stdout",
     "output_type": "stream",
     "text": [
      "--------------------\n",
      "Event: {'chat_with_tools': {'messages': [AIMessage(content='', additional_kwargs={'tool_calls': [{'index': 0, 'id': 'call_arqSQa1h6zPE6AXrGmTeWTg2', 'function': {'arguments': '{\"requirements\":\"京都から東京への旅行プランを作成してください。\"}', 'name': 'run_dify_workflow'}, 'type': 'function'}]}, response_metadata={'finish_reason': 'tool_calls', 'model_name': 'gpt-4o-2024-11-20', 'system_fingerprint': 'fp_ee1d74bde0'}, id='run--4087394a-1b1c-4ace-813c-5f0fc8a2b140-0', tool_calls=[{'name': 'run_dify_workflow', 'args': {'requirements': '京都から東京への旅行プランを作成してください。'}, 'id': 'call_arqSQa1h6zPE6AXrGmTeWTg2', 'type': 'tool_call'}])]}}\n",
      "--------------------\n",
      "Event: {'tools': {'messages': [ToolMessage(content='\"response={\\'task_id\\': \\'feb2d050-5476-47b8-888b-ea5fa4f24fd9\\', \\'workflow_run_id\\': \\'9aacd8c9-d0a1-4614-97ba-b0bfc90e682c\\', \\'data\\': {\\'id\\': \\'9aacd8c9-d0a1-4614-97ba-b0bfc90e682c\\', \\'workflow_id\\': \\'2d97261d-6f0e-4c1e-9223-993a96e676b8\\', \\'status\\': \\'succeeded\\', \\'outputs\\': {\\'text\\': \\'ほな、京都から東京への旅行プラン作るで！関西人らしく楽しくいこか！\\\\\\\\n\\\\\\\\n---\\\\\\\\n\\\\\\\\n### 1日目：京都出発！  \\\\\\\\n**朝**  \\\\\\\\n・JR京都駅から新幹線「のぞみ」に乗って東京へ。約2時間半で着くさかい、朝早めに出発するのがええで！  \\\\\\\\n・新幹線の中では駅弁でも食べて旅気分を盛り上げたらええやん！「鯖寿司」なんか京都らしくてええな～。  \\\\\\\\n\\\\\\\\n**昼**  \\\\\\\\n・東京駅に到着！駅構内でちょっと寄り道して、「東京ばな奈」でも買うてみて。お土産にもええしな！  \\\\\\\\n・その後、浅草へ向かい「浅草寺」でお参り。仲見世通りで食べ歩きするのも楽しいで～。天ぷらまんじゅうとかええで！  \\\\\\\\n\\\\\\\\n**夕方**  \\\\\\\\n・スカイツリーに行って展望台から東京の街並みを眺めてみたらええで！夜はライトアップがキレイやし、ええ写真撮れるで～。  \\\\\\\\n\\\\\\\\n**夜**  \\\\\\\\n・東京の居酒屋で関東ならではの料理を食べてみて。「もんじゃ焼き」とか関西人にはちょっと珍しいかもしれんけど、美味しいで！  \\\\\\\\n\\\\\\\\n---\\\\\\\\n\\\\\\\\n### 2日目：東京観光満喫！  \\\\\\\\n**朝**  \\\\\\\\n・ホテルで朝ごはん食べた後、原宿の「竹下通り」に行ってみようか！若者文化がぎょうさん詰まっとるし、インスタ映えスポットも多いで～。  \\\\\\\\n\\\\\\\\n**昼**  \\\\\\\\n・渋谷で「スクランブル交差点」を体験してみて！人の多さにビックリするけど楽しいで～。ランチは渋谷で流行りのおしゃれカフェでパンケーキとか食べたらええんちゃう？  \\\\\\\\n\\\\\\\\n**午後**  \\\\\\\\n・午後は新宿の「都庁展望台」に行ってみたらどうや？無料やし、東京の景色を高いところから眺めれるで！  \\\\\\\\n・その後は「新宿御苑」でちょっとのんびり散歩するのもオススメやで～。  \\\\\\\\n\\\\\\\\n**夜**  \\\\\\\\n・最後の夜やし、東京のナイトスポットで楽しもう！六本木とかおしゃれなお店も多いし、夜景もキレイやで！  \\\\\\\\n\\\\\\\\n---\\\\\\\\n\\\\\\\\n### 3日目：東京から京都へ帰る  \\\\\\\\n**朝**  \\\\\\\\n・朝はゆっくりして、新幹線に乗る前に東京駅でお土産チェック！「雷おこし」とか「人形焼き」もええし、綺麗な和菓子もあるで～。  \\\\\\\\n\\\\\\\\n**昼**  \\\\\\\\n・新幹線で京都に帰る途中、駅弁をまた楽しんだらええやん！東京の味を最後まで堪能しようや～。  \\\\\\\\n\\\\\\\\n**夕方**  \\\\\\\\n・京都に無事到着！おかえりやで～！楽しい旅行になったんちゃう？  \\\\\\\\n\\\\\\\\n---\\\\\\\\n\\\\\\\\nこんな感じでどうや？無理なく楽しめるプランやと思うで！気ぃつけて行ってきーや～！\\'}, \\'error\\': \\'\\', \\'elapsed_time\\': 9.116945, \\'total_tokens\\': 837, \\'total_steps\\': 3, \\'created_at\\': 1754360073, \\'finished_at\\': 1754360082}}\"', name='run_dify_workflow', id='f9b76e2f-4403-4759-9ae6-10c51a9773ed', tool_call_id='call_arqSQa1h6zPE6AXrGmTeWTg2')]}}\n",
      "--------------------\n",
      "Event: {'chat_with_tools': {'messages': [AIMessage(content='以下は京都から東京への旅行プランです。関西人らしい楽しい旅をお楽しみください！\\n\\n---\\n\\n### 1日目：京都出発！\\n**朝**  \\n- JR京都駅から新幹線「のぞみ」に乗って東京へ。約2時間半で到着します。朝早めに出発するのがおすすめです！  \\n- 新幹線の中では駅弁を楽しみましょう。「鯖寿司」など京都らしいものが良いですね。\\n\\n**昼**  \\n- 東京駅に到着！駅構内で「東京ばな奈」を購入してみてください。お土産にもぴったりです。  \\n- 浅草へ向かい「浅草寺」でお参り。仲見世通りで食べ歩きも楽しいですよ。天ぷらまんじゅうなどがおすすめです。\\n\\n**夕方**  \\n- スカイツリーに行き、展望台から東京の街並みを眺めましょう。夜のライトアップも美しく、写真映えします。\\n\\n**夜**  \\n- 東京の居酒屋で関東ならではの料理を楽しみましょう。「もんじゃ焼き」など関西人には珍しい料理も美味しいですよ！\\n\\n---\\n\\n### 2日目：東京観光満喫！\\n**朝**  \\n- ホテルで朝食を済ませた後、原宿の「竹下通り」に行きましょう。若者文化が詰まっていて、インスタ映えスポットも多いです。\\n\\n**昼**  \\n- 渋谷で「スクランブル交差点」を体験！人の多さに驚きつつ楽しめます。ランチは渋谷の流行りのおしゃれカフェでパンケーキなどをどうぞ。\\n\\n**午後**  \\n- 新宿の「都庁展望台」に行きましょう。無料で東京の景色を高いところから眺められます。  \\n- その後は「新宿御苑」でのんびり散歩するのもおすすめです。\\n\\n**夜**  \\n- 最後の夜は東京のナイトスポットで楽しみましょう。六本木などおしゃれなお店が多く、夜景もきれいです。\\n\\n---\\n\\n### 3日目：東京から京都へ帰る\\n**朝**  \\n- 朝はゆっくりして、新幹線に乗る前に東京駅でお土産チェック！「雷おこし」や「人形焼き」、美しい和菓子などがおすすめです。\\n\\n**昼**  \\n- 新幹線で京都に帰る途中、駅弁を楽しみましょう。東京の味を最後まで堪能してください。\\n\\n**夕方**  \\n- 京都に無事到着！楽しい旅行になったことでしょう。\\n\\n---\\n\\n無理なく楽しめるプランです。気をつけて行ってきてくださいね！', additional_kwargs={}, response_metadata={'finish_reason': 'stop', 'model_name': 'gpt-4o-2024-11-20', 'system_fingerprint': 'fp_ee1d74bde0'}, id='run--c05f75f8-5450-43e6-9305-afc26291238e-0')]}}\n"
     ]
    }
   ],
   "source": [
    "question = \"Dify のワークフローで京都から東京への旅行プランを作成してください。\"\n",
    "\n",
    "# Stream the agent's response to the question\n",
    "for event in agent.stream(\n",
    "    input={\n",
    "        \"messages\": [\n",
    "            {\n",
    "                \"role\": \"user\",\n",
    "                \"content\": question,\n",
    "            }\n",
    "        ],\n",
    "    }\n",
    "):\n",
    "    print(\"-\" * 20)\n",
    "    print(f\"Event: {event}\")"
   ]
  },
  {
   "cell_type": "code",
   "execution_count": null,
   "id": "d38858e3",
   "metadata": {},
   "outputs": [],
   "source": []
  }
 ],
 "metadata": {
  "kernelspec": {
   "display_name": "Python 3 (ipykernel)",
   "language": "python",
   "name": "python3"
  },
  "language_info": {
   "codemirror_mode": {
    "name": "ipython",
    "version": 3
   },
   "file_extension": ".py",
   "mimetype": "text/x-python",
   "name": "python",
   "nbconvert_exporter": "python",
   "pygments_lexer": "ipython3",
   "version": "3.12.8"
  }
 },
 "nbformat": 4,
 "nbformat_minor": 5
}
