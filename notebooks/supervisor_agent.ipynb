{
 "cells": [
  {
   "cell_type": "code",
   "execution_count": 1,
   "id": "1f4d669f",
   "metadata": {},
   "outputs": [],
   "source": [
    "import logging\n",
    "\n",
    "from dotenv import load_dotenv\n",
    "\n",
    "from template_langgraph.loggers import get_logger\n",
    "\n",
    "_ = load_dotenv(\n",
    "    override=True,\n",
    "    verbose=True,\n",
    ")\n",
    "\n",
    "logger = get_logger(__name__)\n",
    "logger.setLevel(logging.DEBUG)"
   ]
  },
  {
   "cell_type": "code",
   "execution_count": 2,
   "id": "21bd80ab",
   "metadata": {},
   "outputs": [
    {
     "name": "stderr",
     "output_type": "stream",
     "text": [
      "2025-08-14 11:35:43,017 [    INFO] Chatting with tools using state: {'messages': [HumanMessage(content='「鬼灯」を実行すると、KABUTOが急に停止します。原因と対策を教えてください。', additional_kwargs={}, response_metadata={}, id='4abc5434-3c7e-4ff1-a7f0-691b252d3052'), AIMessage(content='', additional_kwargs={'tool_calls': [{'index': 0, 'id': 'call_r6vg5IHt2FC6wz6lFjZQqeeJ', 'function': {'arguments': '{}', 'name': 'transfer_to_chatwithtoolsagent'}, 'type': 'function'}]}, response_metadata={'finish_reason': 'tool_calls', 'model_name': 'gpt-4o-2024-08-06', 'system_fingerprint': 'fp_8458c98457'}, name='SupervisorAgent', id='run--469834f0-3e80-436c-b626-a54eeb6a2636-0', tool_calls=[{'name': 'transfer_to_chatwithtoolsagent', 'args': {}, 'id': 'call_r6vg5IHt2FC6wz6lFjZQqeeJ', 'type': 'tool_call'}]), ToolMessage(content='Successfully transferred to ChatWithToolsAgent', name='transfer_to_chatwithtoolsagent', id='e4e1a0a1-0709-4d63-bac5-2ee706bab2f9', tool_call_id='call_r6vg5IHt2FC6wz6lFjZQqeeJ')]} (agent.py:86)\n"
     ]
    },
    {
     "name": "stdout",
     "output_type": "stream",
     "text": [
      "--------------------\n",
      "Event: {'SupervisorAgent': {'messages': [HumanMessage(content='「鬼灯」を実行すると、KABUTOが急に停止します。原因と対策を教えてください。', additional_kwargs={}, response_metadata={}, id='4abc5434-3c7e-4ff1-a7f0-691b252d3052'), AIMessage(content='', additional_kwargs={'tool_calls': [{'index': 0, 'id': 'call_r6vg5IHt2FC6wz6lFjZQqeeJ', 'function': {'arguments': '{}', 'name': 'transfer_to_chatwithtoolsagent'}, 'type': 'function'}]}, response_metadata={'finish_reason': 'tool_calls', 'model_name': 'gpt-4o-2024-08-06', 'system_fingerprint': 'fp_8458c98457'}, name='SupervisorAgent', id='run--469834f0-3e80-436c-b626-a54eeb6a2636-0', tool_calls=[{'name': 'transfer_to_chatwithtoolsagent', 'args': {}, 'id': 'call_r6vg5IHt2FC6wz6lFjZQqeeJ', 'type': 'tool_call'}]), ToolMessage(content='Successfully transferred to ChatWithToolsAgent', name='transfer_to_chatwithtoolsagent', id='e4e1a0a1-0709-4d63-bac5-2ee706bab2f9', tool_call_id='call_r6vg5IHt2FC6wz6lFjZQqeeJ')]}}\n"
     ]
    },
    {
     "name": "stderr",
     "output_type": "stream",
     "text": [
      "2025-08-14 11:35:47,781 [    INFO] Chatting with tools using state: {'messages': [HumanMessage(content='「鬼灯」を実行すると、KABUTOが急に停止します。原因と対策を教えてください。', additional_kwargs={}, response_metadata={}, id='4abc5434-3c7e-4ff1-a7f0-691b252d3052'), AIMessage(content='', additional_kwargs={'tool_calls': [{'index': 0, 'id': 'call_r6vg5IHt2FC6wz6lFjZQqeeJ', 'function': {'arguments': '{}', 'name': 'transfer_to_chatwithtoolsagent'}, 'type': 'function'}]}, response_metadata={'finish_reason': 'tool_calls', 'model_name': 'gpt-4o-2024-08-06', 'system_fingerprint': 'fp_8458c98457'}, name='SupervisorAgent', id='run--469834f0-3e80-436c-b626-a54eeb6a2636-0', tool_calls=[{'name': 'transfer_to_chatwithtoolsagent', 'args': {}, 'id': 'call_r6vg5IHt2FC6wz6lFjZQqeeJ', 'type': 'tool_call'}]), ToolMessage(content='Successfully transferred to ChatWithToolsAgent', name='transfer_to_chatwithtoolsagent', id='e4e1a0a1-0709-4d63-bac5-2ee706bab2f9', tool_call_id='call_r6vg5IHt2FC6wz6lFjZQqeeJ'), AIMessage(content='', additional_kwargs={'tool_calls': [{'index': 0, 'id': 'call_nEX3JSMKSDmddjNOyH3tLSKx', 'function': {'arguments': '{\"keywords\": \"鬼灯 KABUTO 停止 原因 対策\"}', 'name': 'search_qdrant'}, 'type': 'function'}, {'index': 1, 'id': 'call_lLCACkDesXHLvbLvH2qNEHo8', 'function': {'arguments': '{\"keywords\": \"鬼灯 KABUTO 停止 原因 対策\"}', 'name': 'search_elasticsearch'}, 'type': 'function'}]}, response_metadata={'finish_reason': 'tool_calls', 'model_name': 'gpt-4o-2024-08-06', 'system_fingerprint': 'fp_ee1d74bde0'}, id='run--a11d00c5-af3a-4c5b-a862-a426c0dc8fb1-0', tool_calls=[{'name': 'search_qdrant', 'args': {'keywords': '鬼灯 KABUTO 停止 原因 対策'}, 'id': 'call_nEX3JSMKSDmddjNOyH3tLSKx', 'type': 'tool_call'}, {'name': 'search_elasticsearch', 'args': {'keywords': '鬼灯 KABUTO 停止 原因 対策'}, 'id': 'call_lLCACkDesXHLvbLvH2qNEHo8', 'type': 'tool_call'}]), ToolMessage(content='\"[QdrantOutput(file_name=\\'./data/qa_kabuto.csv\\', content=\\'q: 特定のアプリケーション「鬼灯」を実行すると、KABUTOのファンが急に停止し、無音になります。 a: 「鬼灯」は、その特殊な演算処理において、KABUTOの冷却システム「風魔の術」を一時的に停止させ、内部エネルギーの流れを最適化する機能を持っています。これは異常ではありません。ただし、無音状態が15分以上続く場合は、過熱の可能性があるため、アプリケーションを強制終了し、KABUTO本体の電源を一度切ってから再起動してください。\\'), QdrantOutput(file_name=\\'./data/reports_kabuto.csv\\', content=\\'error_code: KABUTO-0127 timestamp: 2025-08-03T10:13:02+09:00 user_message: 鬼灯実行中に過熱警告が表示され強制終了したい。\\'), QdrantOutput(file_name=\\'./data/reports_kabuto.csv\\', content=\\'error_code: KABUTO-0116 timestamp: 2025-07-28T10:12:05+09:00 user_message: 鬼灯実行中に無音状態が15分以上続き過熱が不安。\\')]\"', name='search_qdrant', id='beb88101-6360-40fe-b2f5-2111ba45cb3d', tool_call_id='call_nEX3JSMKSDmddjNOyH3tLSKx'), ToolMessage(content='\"[ElasticsearchOutput(file_name=\\'docs_kabuto.pdf\\', content=\\'docs_kabuto.md 2025-08-01\\\\\\\\n2 / 3\\\\\\\\nた場合、「虚無」エラーが表⽰され、ログインは拒否される。これは疲労やストレスによる精神状態の変化が原因で\\\\\\\\nある可能性があり、深呼吸による精神状態の安定化が解決策となる。\\\\\\\\n3.3 ネットワーク・通信\\\\\\\\nネットワークモジュール「隠れ蓑」は、外部からの不必要なスキャンを回避するため、デフォルトでステルスモード\\\\\\\\nで動作する。これにより、ネットワーク上の他のデバイスから認識されない状態となる。 KABUTO をネットワーク上\\\\\\\\nで可視化させるには、ネットワーク設定画⾯から「忍びの道」オプションを有効にする必要がある。\\\\\\\\n3.4 演算コア\\'), ElasticsearchOutput(file_name=\\'docs_kabuto.pdf\\', content=\\'る。これにより、漢字で表⽰されている特定のフォルダ名が、ひらがなとして読み取られる現象が発⽣する。この問\\\\\\\\n題を解消するには、システム設定にて「読み⽅優先モード」を⼀時的に無効化する必要がある。\\\\\\\\n4.2 ⼊⼒・ AI アシスタント\\\\\\\\n内蔵 AI アシスタント「ヤタガラス」は、ユーザーの⼊⼒内容を予測し、システムの基幹⾔語である「KABUTO 語」に\\\\\\\\n最適化しようとする機能を持つ。これにより、特定の⽂字が⾃動的にカタカナに変換される現象が発⽣する。この機\\\\\\\\n能を⼀時的に停⽌するには、⼊⼒中にCtrlキーとShiftキーを同時に押しながら「 KABUTO 」と⼊⼒する。\\\\\\\\n4.3 スクリーンショット機能\\'), ElasticsearchOutput(file_name=\\'docs_kabuto.pdf\\', content=\\'「⻤灯」の実⾏中は、冷却システムが⼀時的に停⽌し、無⾳となる。これは内部エネルギーの流れを最適化するため\\\\\\\\nの仕様であり、異常ではない。ただし、この無⾳状態が 15 分以上継続する場合は、過熱の可能性があるため、アプリ\\\\\\\\nケーションの強制終了およびシステムの再起動が推奨される。\\\\\\\\n第 3 章  ソフトウェア・オペレーション\\\\\\\\n3.1 起動プロトコル\\\\\\\\nKABUTO の起動シーケンスは、「シノビ・プロトコル」に基づき実⾏される。このプロトコルの初期化フェーズで、\\\\\\\\n内部クロックと接続された外部周辺機器のクロックとの同期に失敗した場合、画⾯全体が紫⾊に点滅し、システムが\\')]\"', name='search_elasticsearch', id='fad30499-69ba-491c-a182-86e767c0fbaf', tool_call_id='call_lLCACkDesXHLvbLvH2qNEHo8')]} (agent.py:86)\n"
     ]
    },
    {
     "name": "stdout",
     "output_type": "stream",
     "text": [
      "--------------------\n",
      "Event: {'ChatWithToolsAgent': {'messages': [AIMessage(content='KABUTOが「鬼灯」を実行した際に急停止する原因と対策について以下の情報が得られました。\\n\\n### 原因:\\n1. **冷却システムの一時停止**: 「鬼灯」は特異な演算処理を含んでおり、KABUTOの冷却システム「風魔の術」を一時的に停止させ、内部エネルギーの流れを最適化する機能を持っています。このため、無音状態になることがありますが、異常ではありません。\\n\\n2. **過熱の可能性**: 無音状態が15分以上続く場合、過熱の可能性があります。過熱による問題が発生し、強制終了が必要となる場合があります。\\n\\n### 対策:\\n1. **強制終了と再起動**: 無音状態が15分以上続く場合は、アプリケーションを強制終了し、KABUTO本体の電源を一度切ってから再起動してください。\\n\\n2. **深呼吸による精神安定化**: ストレスや過剰な疲労が原因でシステムが「虚無」状態となり、ログインが拒否されることがあります。深呼吸により精神状態の安定化を図ることが解決策となり得ます。\\n\\nこれらの情報をもとに、KABUTOの動作を再確認し問題解決を試みてください。', additional_kwargs={}, response_metadata={'finish_reason': 'stop', 'model_name': 'gpt-4o-2024-08-06', 'system_fingerprint': 'fp_8458c98457'}, id='run--0fc6ad63-b83d-4cfb-bfba-ff47b68621c6-0'), AIMessage(content='Transferring back to SupervisorAgent', additional_kwargs={}, response_metadata={'__is_handoff_back': True}, name='ChatWithToolsAgent', id='d5630633-5f99-48dc-af51-57e2da6ce49f', tool_calls=[{'name': 'transfer_back_to_supervisoragent', 'args': {}, 'id': '2a7cf5ab-a2e2-41b7-b36b-d363e4375bb3', 'type': 'tool_call'}]), ToolMessage(content='Successfully transferred back to SupervisorAgent', name='transfer_back_to_supervisoragent', id='16172cb8-a612-45e5-a453-12b23dffe48f', tool_call_id='2a7cf5ab-a2e2-41b7-b36b-d363e4375bb3')]}}\n",
      "--------------------\n",
      "Event: {'SupervisorAgent': {'messages': [HumanMessage(content='「鬼灯」を実行すると、KABUTOが急に停止します。原因と対策を教えてください。', additional_kwargs={}, response_metadata={}, id='4abc5434-3c7e-4ff1-a7f0-691b252d3052'), AIMessage(content='', additional_kwargs={'tool_calls': [{'index': 0, 'id': 'call_r6vg5IHt2FC6wz6lFjZQqeeJ', 'function': {'arguments': '{}', 'name': 'transfer_to_chatwithtoolsagent'}, 'type': 'function'}]}, response_metadata={'finish_reason': 'tool_calls', 'model_name': 'gpt-4o-2024-08-06', 'system_fingerprint': 'fp_8458c98457'}, name='SupervisorAgent', id='run--469834f0-3e80-436c-b626-a54eeb6a2636-0', tool_calls=[{'name': 'transfer_to_chatwithtoolsagent', 'args': {}, 'id': 'call_r6vg5IHt2FC6wz6lFjZQqeeJ', 'type': 'tool_call'}]), ToolMessage(content='Successfully transferred to ChatWithToolsAgent', name='transfer_to_chatwithtoolsagent', id='e4e1a0a1-0709-4d63-bac5-2ee706bab2f9', tool_call_id='call_r6vg5IHt2FC6wz6lFjZQqeeJ'), AIMessage(content='KABUTOが「鬼灯」を実行した際に急停止する原因と対策について以下の情報が得られました。\\n\\n### 原因:\\n1. **冷却システムの一時停止**: 「鬼灯」は特異な演算処理を含んでおり、KABUTOの冷却システム「風魔の術」を一時的に停止させ、内部エネルギーの流れを最適化する機能を持っています。このため、無音状態になることがありますが、異常ではありません。\\n\\n2. **過熱の可能性**: 無音状態が15分以上続く場合、過熱の可能性があります。過熱による問題が発生し、強制終了が必要となる場合があります。\\n\\n### 対策:\\n1. **強制終了と再起動**: 無音状態が15分以上続く場合は、アプリケーションを強制終了し、KABUTO本体の電源を一度切ってから再起動してください。\\n\\n2. **深呼吸による精神安定化**: ストレスや過剰な疲労が原因でシステムが「虚無」状態となり、ログインが拒否されることがあります。深呼吸により精神状態の安定化を図ることが解決策となり得ます。\\n\\nこれらの情報をもとに、KABUTOの動作を再確認し問題解決を試みてください。', additional_kwargs={}, response_metadata={'finish_reason': 'stop', 'model_name': 'gpt-4o-2024-08-06', 'system_fingerprint': 'fp_8458c98457'}, id='run--0fc6ad63-b83d-4cfb-bfba-ff47b68621c6-0'), AIMessage(content='Transferring back to SupervisorAgent', additional_kwargs={}, response_metadata={'__is_handoff_back': True}, name='ChatWithToolsAgent', id='d5630633-5f99-48dc-af51-57e2da6ce49f', tool_calls=[{'name': 'transfer_back_to_supervisoragent', 'args': {}, 'id': '2a7cf5ab-a2e2-41b7-b36b-d363e4375bb3', 'type': 'tool_call'}]), ToolMessage(content='Successfully transferred back to SupervisorAgent', name='transfer_back_to_supervisoragent', id='16172cb8-a612-45e5-a453-12b23dffe48f', tool_call_id='2a7cf5ab-a2e2-41b7-b36b-d363e4375bb3'), AIMessage(content='KABUTOが「鬼灯」を実行した際に急停止する原因と対策について以下の情報を提供いたします。\\n\\n### 原因:\\n1. **冷却システムの一時停止**: 特定の処理が冷却システムを止めることがあり、これによりシステムが応答しなくなることがあります。\\n\\n2. **過熱の可能性**: 無音状態が長く続くとシステムが過熱する可能性があります。\\n\\n### 対策:\\n1. **強制終了と再起動**: 15分以上続く場合は、強制終了後、電源を切り、再起動してください。\\n\\n2. **精神安定のための深呼吸**: ストレス緩和を目的として深呼吸により精神状態の安定化を図るのも有効です。\\n\\nこれにより、問題が解決するかどうか試みてください。', additional_kwargs={}, response_metadata={'finish_reason': 'stop', 'model_name': 'gpt-4o-2024-08-06', 'system_fingerprint': 'fp_ee1d74bde0'}, name='SupervisorAgent', id='run--213f703a-73c9-44bf-ad00-b17ce193fc34-0')]}}\n"
     ]
    }
   ],
   "source": [
    "from template_langgraph.agents.supervisor_agent.agent import graph\n",
    "\n",
    "question = \"「鬼灯」を実行すると、KABUTOが急に停止します。原因と対策を教えてください。\"\n",
    "\n",
    "# Stream the agent's response to the question\n",
    "for event in graph.stream(\n",
    "    input={\n",
    "        \"messages\": [\n",
    "            {\n",
    "                \"role\": \"user\",\n",
    "                \"content\": question,\n",
    "            }\n",
    "        ],\n",
    "    }\n",
    "):\n",
    "    print(\"-\" * 20)\n",
    "    print(f\"Event: {event}\")"
   ]
  }
 ],
 "metadata": {
  "kernelspec": {
   "display_name": "Python 3 (ipykernel)",
   "language": "python",
   "name": "python3"
  },
  "language_info": {
   "codemirror_mode": {
    "name": "ipython",
    "version": 3
   },
   "file_extension": ".py",
   "mimetype": "text/x-python",
   "name": "python",
   "nbconvert_exporter": "python",
   "pygments_lexer": "ipython3",
   "version": "3.12.0"
  }
 },
 "nbformat": 4,
 "nbformat_minor": 5
}
