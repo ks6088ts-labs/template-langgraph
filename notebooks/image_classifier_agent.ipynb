{
 "cells": [
  {
   "cell_type": "code",
   "execution_count": 1,
   "id": "0e39a91d",
   "metadata": {},
   "outputs": [],
   "source": [
    "import logging\n",
    "\n",
    "from dotenv import load_dotenv\n",
    "\n",
    "from template_langgraph.loggers import get_logger\n",
    "\n",
    "_ = load_dotenv(\n",
    "    override=True,\n",
    "    verbose=True,\n",
    ")\n",
    "\n",
    "logger = get_logger(__name__)\n",
    "logger.setLevel(logging.DEBUG)"
   ]
  },
  {
   "cell_type": "code",
   "execution_count": 2,
   "id": "1e620cca",
   "metadata": {},
   "outputs": [
    {
     "name": "stderr",
     "output_type": "stream",
     "text": [
      "2025-08-14 11:37:25,079 [    INFO] Initializing state: input=AgentInputState(prompt='この画像の中身を 3 行で日本語で説明してください', id='e5d93fde-3176-48dd-b361-359a1cc4b8ea', file_paths=['../docs/images/fastapi.png', '../docs/images/streamlit.png']) results=[] (agent.py:73)\n",
      "2025-08-14 11:37:25,079 [    INFO] Running subtasks with state: input=AgentInputState(prompt='この画像の中身を 3 行で日本語で説明してください', id='e5d93fde-3176-48dd-b361-359a1cc4b8ea', file_paths=['../docs/images/fastapi.png', '../docs/images/streamlit.png']) results=[] (agent.py:79)\n",
      "2025-08-14 11:37:25,079 [    INFO] -------------------- (1383596555.py:27)\n",
      "2025-08-14 11:37:25,080 [    INFO] Event: {'initialize': {'input': AgentInputState(prompt='この画像の中身を 3 行で日本語で説明してください', id='e5d93fde-3176-48dd-b361-359a1cc4b8ea', file_paths=['../docs/images/fastapi.png', '../docs/images/streamlit.png']), 'results': []}} (1383596555.py:28)\n",
      "2025-08-14 11:37:25,080 [    INFO] Classify file: ../docs/images/streamlit.png (agent.py:92)\n",
      "2025-08-14 11:37:25,080 [    INFO] Classify file: ../docs/images/fastapi.png (agent.py:92)\n",
      "2025-08-14 11:37:25,080 [    INFO] Loading file: ../docs/images/streamlit.png (agent.py:95)\n",
      "2025-08-14 11:37:25,081 [    INFO] Loading file: ../docs/images/fastapi.png (agent.py:95)\n",
      "2025-08-14 11:37:25,084 [    INFO] Classifying file: ../docs/images/streamlit.png (agent.py:98)\n",
      "2025-08-14 11:37:25,084 [    INFO] Classifying image with LLM: この画像の中身を 3 行で日本語で説明してください (classifiers.py:64)\n",
      "2025-08-14 11:37:25,087 [    INFO] Classifying file: ../docs/images/fastapi.png (agent.py:98)\n",
      "2025-08-14 11:37:25,087 [    INFO] Classifying image with LLM: この画像の中身を 3 行で日本語で説明してください (classifiers.py:64)\n",
      "2025-08-14 11:37:35,738 [    INFO] Classification result: {\n",
      "  \"title\": \"KABUTOシステム起動時の問題\",\n",
      "  \"summary\": \"KABUTOシステムの起動時にスクリーンが紫色にフラッシュし、システムがフリーズする問題について言及しています。この問題は、内部時計と外部時計の同期が失敗することに関連しており、「シノビプロトコル」初期化失敗が原因とされています。トラブルシューティングの手順として、全ての周辺機器を外してシステムを再起動することが推奨されています。\",\n",
      "  \"labels\": [\n",
      "    \"KABUTO\",\n",
      "    \"システムフリーズ\",\n",
      "    \"初期化失敗\",\n",
      "    \"トラブルシューティング\",\n",
      "    \"周辺機器解除\"\n",
      "  ],\n",
      "  \"reliability\": 0.94\n",
      "} (agent.py:105)\n",
      "2025-08-14 11:37:35,740 [    INFO] -------------------- (1383596555.py:27)\n",
      "2025-08-14 11:37:35,740 [    INFO] Event: {'classify_image': {'results': [Results(file_path='../docs/images/fastapi.png', result=Result(title='KABUTOシステム起動時の問題', summary='KABUTOシステムの起動時にスクリーンが紫色にフラッシュし、システムがフリーズする問題について言及しています。この問題は、内部時計と外部時計の同期が失敗することに関連しており、「シノビプロトコル」初期化失敗が原因とされています。トラブルシューティングの手順として、全ての周辺機器を外してシステムを再起動することが推奨されています。', labels=['KABUTO', 'システムフリーズ', '初期化失敗', 'トラブルシューティング', '周辺機器解除'], reliability=0.94))]}} (1383596555.py:28)\n",
      "2025-08-14 11:37:37,267 [    INFO] Classification result: {\n",
      "  \"title\": \"ツールエージェント画面\",\n",
      "  \"summary\": \"この画像は利用可能なツールを選択し、AIと対話を行うインターフェースの表示です。\",\n",
      "  \"labels\": [\n",
      "    \"AI チャット\",\n",
      "    \"ツール選択\",\n",
      "    \"インターフェース\"\n",
      "  ],\n",
      "  \"reliability\": 0.9\n",
      "} (agent.py:105)\n",
      "2025-08-14 11:37:37,268 [    INFO] -------------------- (1383596555.py:27)\n",
      "2025-08-14 11:37:37,268 [    INFO] Event: {'classify_image': {'results': [Results(file_path='../docs/images/streamlit.png', result=Result(title='ツールエージェント画面', summary='この画像は利用可能なツールを選択し、AIと対話を行うインターフェースの表示です。', labels=['AI チャット', 'ツール選択', 'インターフェース'], reliability=0.9))]}} (1383596555.py:28)\n",
      "2025-08-14 11:37:37,270 [    INFO] Sending notifications with state: input=AgentInputState(prompt='この画像の中身を 3 行で日本語で説明してください', id='e5d93fde-3176-48dd-b361-359a1cc4b8ea', file_paths=['../docs/images/fastapi.png', '../docs/images/streamlit.png']) results=[Results(file_path='../docs/images/fastapi.png', result=Result(title='KABUTOシステム起動時の問題', summary='KABUTOシステムの起動時にスクリーンが紫色にフラッシュし、システムがフリーズする問題について言及しています。この問題は、内部時計と外部時計の同期が失敗することに関連しており、「シノビプロトコル」初期化失敗が原因とされています。トラブルシューティングの手順として、全ての周辺機器を外してシステムを再起動することが推奨されています。', labels=['KABUTO', 'システムフリーズ', '初期化失敗', 'トラブルシューティング', '周辺機器解除'], reliability=0.94)), Results(file_path='../docs/images/streamlit.png', result=Result(title='ツールエージェント画面', summary='この画像は利用可能なツールを選択し、AIと対話を行うインターフェースの表示です。', labels=['AI チャット', 'ツール選択', 'インターフェース'], reliability=0.9))] (agent.py:119)\n",
      "2025-08-14 11:37:37,270 [    INFO] Notification sent for request e5d93fde-3176-48dd-b361-359a1cc4b8ea: {0: {'file_path': '../docs/images/fastapi.png', 'result': {'title': 'KABUTOシステム起動時の問題', 'summary': 'KABUTOシステムの起動時にスクリーンが紫色にフラッシュし、システムがフリーズする問題について言及しています。この問題は、内部時計と外部時計の同期が失敗することに関連しており、「シノビプロトコル」初期化失敗が原因とされています。トラブルシューティングの手順として、全ての周辺機器を外してシステムを再起動することが推奨されています。', 'labels': ['KABUTO', 'システムフリーズ', '初期化失敗', 'トラブルシューティング', '周辺機器解除'], 'reliability': 0.94}}, 1: {'file_path': '../docs/images/streamlit.png', 'result': {'title': 'ツールエージェント画面', 'summary': 'この画像は利用可能なツールを選択し、AIと対話を行うインターフェースの表示です。', 'labels': ['AI チャット', 'ツール選択', 'インターフェース'], 'reliability': 0.9}}} (agent.py:32)\n",
      "2025-08-14 11:37:37,271 [    INFO] -------------------- (1383596555.py:27)\n",
      "2025-08-14 11:37:37,272 [    INFO] Event: {'notify': {'input': AgentInputState(prompt='この画像の中身を 3 行で日本語で説明してください', id='e5d93fde-3176-48dd-b361-359a1cc4b8ea', file_paths=['../docs/images/fastapi.png', '../docs/images/streamlit.png']), 'results': [Results(file_path='../docs/images/fastapi.png', result=Result(title='KABUTOシステム起動時の問題', summary='KABUTOシステムの起動時にスクリーンが紫色にフラッシュし、システムがフリーズする問題について言及しています。この問題は、内部時計と外部時計の同期が失敗することに関連しており、「シノビプロトコル」初期化失敗が原因とされています。トラブルシューティングの手順として、全ての周辺機器を外してシステムを再起動することが推奨されています。', labels=['KABUTO', 'システムフリーズ', '初期化失敗', 'トラブルシューティング', '周辺機器解除'], reliability=0.94)), Results(file_path='../docs/images/streamlit.png', result=Result(title='ツールエージェント画面', summary='この画像は利用可能なツールを選択し、AIと対話を行うインターフェースの表示です。', labels=['AI チャット', 'ツール選択', 'インターフェース'], reliability=0.9))]}} (1383596555.py:28)\n"
     ]
    }
   ],
   "source": [
    "from uuid import uuid4\n",
    "\n",
    "from template_langgraph.agents.image_classifier_agent.agent import ImageClassifierAgent\n",
    "from template_langgraph.agents.image_classifier_agent.classifiers import (\n",
    "    LlmClassifier,\n",
    ")\n",
    "from template_langgraph.agents.image_classifier_agent.models import (\n",
    "    AgentInputState,\n",
    "    AgentState,\n",
    "    Results,\n",
    ")\n",
    "\n",
    "# Create an instance of the agent\n",
    "graph = ImageClassifierAgent(\n",
    "    classifier=LlmClassifier(),\n",
    ").create_graph()\n",
    "for event in graph.stream(\n",
    "    input=AgentState(\n",
    "        input=AgentInputState(\n",
    "            prompt=\"この画像の中身を 3 行で日本語で説明してください\",\n",
    "            id=str(uuid4()),\n",
    "            file_paths=\"../docs/images/fastapi.png,../docs/images/streamlit.png\".split(\",\"),\n",
    "        ),\n",
    "        results=[],\n",
    "    )\n",
    "):\n",
    "    logger.info(\"-\" * 20)\n",
    "    logger.info(f\"Event: {event}\")"
   ]
  },
  {
   "cell_type": "code",
   "execution_count": 3,
   "id": "c6c68866",
   "metadata": {},
   "outputs": [
    {
     "name": "stdout",
     "output_type": "stream",
     "text": [
      "{\n",
      "  \"file_path\": \"../docs/images/fastapi.png\",\n",
      "  \"result\": {\n",
      "    \"title\": \"KABUTOシステム起動時の問題\",\n",
      "    \"summary\": \"KABUTOシステムの起動時にスクリーンが紫色にフラッシュし、システムがフリーズする問題について言及しています。この問題は、内部時計と外部時計の同期が失敗することに関連しており、「シノビプロトコル」初期化失敗が原因とされています。トラブルシューティングの手順として、全ての周辺機器を外してシステムを再起動することが推奨されています。\",\n",
      "    \"labels\": [\n",
      "      \"KABUTO\",\n",
      "      \"システムフリーズ\",\n",
      "      \"初期化失敗\",\n",
      "      \"トラブルシューティング\",\n",
      "      \"周辺機器解除\"\n",
      "    ],\n",
      "    \"reliability\": 0.94\n",
      "  }\n",
      "}\n",
      "{\n",
      "  \"file_path\": \"../docs/images/streamlit.png\",\n",
      "  \"result\": {\n",
      "    \"title\": \"ツールエージェント画面\",\n",
      "    \"summary\": \"この画像は利用可能なツールを選択し、AIと対話を行うインターフェースの表示です。\",\n",
      "    \"labels\": [\n",
      "      \"AI チャット\",\n",
      "      \"ツール選択\",\n",
      "      \"インターフェース\"\n",
      "    ],\n",
      "    \"reliability\": 0.9\n",
      "  }\n",
      "}\n"
     ]
    }
   ],
   "source": [
    "results: list[Results] = event[\"notify\"][\"results\"]\n",
    "for result in results:\n",
    "    print(f\"{result.model_dump_json(indent=2)}\")"
   ]
  }
 ],
 "metadata": {
  "kernelspec": {
   "display_name": "Python 3 (ipykernel)",
   "language": "python",
   "name": "python3"
  },
  "language_info": {
   "codemirror_mode": {
    "name": "ipython",
    "version": 3
   },
   "file_extension": ".py",
   "mimetype": "text/x-python",
   "name": "python",
   "nbconvert_exporter": "python",
   "pygments_lexer": "ipython3",
   "version": "3.12.0"
  }
 },
 "nbformat": 4,
 "nbformat_minor": 5
}
