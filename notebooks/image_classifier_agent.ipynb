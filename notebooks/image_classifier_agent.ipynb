{
 "cells": [
  {
   "cell_type": "code",
   "execution_count": 1,
   "id": "0e39a91d",
   "metadata": {},
   "outputs": [],
   "source": [
    "import logging\n",
    "\n",
    "from dotenv import load_dotenv\n",
    "\n",
    "from template_langgraph.loggers import get_logger\n",
    "\n",
    "_ = load_dotenv(\n",
    "    override=True,\n",
    "    verbose=True,\n",
    ")\n",
    "\n",
    "logger = get_logger(__name__)\n",
    "logger.setLevel(logging.DEBUG)"
   ]
  },
  {
   "cell_type": "code",
   "execution_count": 2,
   "id": "1e620cca",
   "metadata": {},
   "outputs": [],
   "source": [
    "from uuid import uuid4\n",
    "\n",
    "from template_langgraph.agents.image_classifier_agent.agent import ImageClassifierAgent\n",
    "from template_langgraph.agents.image_classifier_agent.classifiers import (\n",
    "    LlmClassifier,\n",
    ")\n",
    "from template_langgraph.agents.image_classifier_agent.models import (\n",
    "    AgentInputState,\n",
    "    AgentState,\n",
    "    Results,\n",
    ")\n",
    "\n",
    "# Create an instance of the agent\n",
    "graph = ImageClassifierAgent(\n",
    "    classifier=LlmClassifier(),\n",
    ").create_graph()"
   ]
  },
  {
   "cell_type": "code",
   "execution_count": 3,
   "id": "b7aa74db-c4e8-417b-ac2e-e15d3bca0357",
   "metadata": {},
   "outputs": [
    {
     "data": {
      "image/png": "[encoded data removed]",
      "text/plain": [
       "<IPython.core.display.Image object>"
      ]
     },
     "metadata": {},
     "output_type": "display_data"
    }
   ],
   "source": [
    "from IPython.display import Image, display\n",
    "\n",
    "display(Image(graph.get_graph().draw_mermaid_png()))"
   ]
  },
  {
   "cell_type": "code",
   "execution_count": 4,
   "id": "25cc83d8-e7fd-45eb-a29b-70aff6b6822b",
   "metadata": {},
   "outputs": [
    {
     "name": "stderr",
     "output_type": "stream",
     "text": [
      "2025-08-14 11:46:12,891 [    INFO] Initializing state: input=AgentInputState(prompt='この画像の中身を 3 行で日本語で説明してください', id='dc32448d-5a52-4ad7-ba68-118b2e3c9d48', file_paths=['../docs/images/fastapi.png', '../docs/images/streamlit.png']) results=[] (agent.py:73)\n",
      "2025-08-14 11:46:12,892 [    INFO] Running subtasks with state: input=AgentInputState(prompt='この画像の中身を 3 行で日本語で説明してください', id='dc32448d-5a52-4ad7-ba68-118b2e3c9d48', file_paths=['../docs/images/fastapi.png', '../docs/images/streamlit.png']) results=[] (agent.py:79)\n",
      "2025-08-14 11:46:12,892 [    INFO] -------------------- (1747893361.py:11)\n",
      "2025-08-14 11:46:12,893 [    INFO] Event: {'initialize': {'input': AgentInputState(prompt='この画像の中身を 3 行で日本語で説明してください', id='dc32448d-5a52-4ad7-ba68-118b2e3c9d48', file_paths=['../docs/images/fastapi.png', '../docs/images/streamlit.png']), 'results': []}} (1747893361.py:12)\n",
      "2025-08-14 11:46:12,893 [    INFO] Classify file: ../docs/images/fastapi.png (agent.py:92)\n",
      "2025-08-14 11:46:12,893 [    INFO] Classify file: ../docs/images/streamlit.png (agent.py:92)\n",
      "2025-08-14 11:46:12,894 [    INFO] Loading file: ../docs/images/fastapi.png (agent.py:95)\n",
      "2025-08-14 11:46:12,894 [    INFO] Loading file: ../docs/images/streamlit.png (agent.py:95)\n",
      "2025-08-14 11:46:12,898 [    INFO] Classifying file: ../docs/images/fastapi.png (agent.py:98)\n",
      "2025-08-14 11:46:12,899 [    INFO] Classifying image with LLM: この画像の中身を 3 行で日本語で説明してください (classifiers.py:64)\n",
      "2025-08-14 11:46:12,905 [    INFO] Classifying file: ../docs/images/streamlit.png (agent.py:98)\n",
      "2025-08-14 11:46:12,906 [    INFO] Classifying image with LLM: この画像の中身を 3 行で日本語で説明してください (classifiers.py:64)\n",
      "2025-08-14 11:46:21,066 [    INFO] Classification result: {\n",
      "  \"title\": \"「KABUTO」と「検索ツール」\",\n",
      "  \"summary\": \"このスクリーンショットはコンピュータプログラムのインターフェイスを示しています。ユーザーが「KABUTOについて教えて」と入力しており、その下に使用する検索ツールが表示されています。検索中のツールには「search_qdrant」と「search_elasticsearch」があります。\",\n",
      "  \"labels\": [\n",
      "    \"コンピュータプログラム\",\n",
      "    \"インターフェイス\",\n",
      "    \"検索ツール\",\n",
      "    \"ユーザー入力\",\n",
      "    \"検索エンジン\"\n",
      "  ],\n",
      "  \"reliability\": 0.95\n",
      "} (agent.py:105)\n",
      "2025-08-14 11:46:21,068 [    INFO] -------------------- (1747893361.py:11)\n",
      "2025-08-14 11:46:21,068 [    INFO] Event: {'classify_image': {'results': [Results(file_path='../docs/images/streamlit.png', result=Result(title='「KABUTO」と「検索ツール」', summary='このスクリーンショットはコンピュータプログラムのインターフェイスを示しています。ユーザーが「KABUTOについて教えて」と入力しており、その下に使用する検索ツールが表示されています。検索中のツールには「search_qdrant」と「search_elasticsearch」があります。', labels=['コンピュータプログラム', 'インターフェイス', '検索ツール', 'ユーザー入力', '検索エンジン'], reliability=0.95))]}} (1747893361.py:12)\n",
      "2025-08-14 11:46:22,904 [    INFO] Classification result: {\n",
      "  \"title\": \"Diagnostic Dashboard\",\n",
      "  \"summary\": \"この画像には、KABUTOの起動中に発生する問題についてのトラブルシューティングガイドが表示されています。具体的には、画面の紫色の点滅とシステムのフリーズに関する問題が説明されています。解決策として\\\"Shinobi Protocol\\\"の初期化不具合について説明され、周辺機器を全て外してから再起動する方法が推奨されています。\",\n",
      "  \"labels\": [\n",
      "    \"KABUTO\",\n",
      "    \"troubleshooting\",\n",
      "    \"system freeze\",\n",
      "    \"screen issue\"\n",
      "  ],\n",
      "  \"reliability\": 0.95\n",
      "} (agent.py:105)\n",
      "2025-08-14 11:46:22,905 [    INFO] -------------------- (1747893361.py:11)\n",
      "2025-08-14 11:46:22,906 [    INFO] Event: {'classify_image': {'results': [Results(file_path='../docs/images/fastapi.png', result=Result(title='Diagnostic Dashboard', summary='この画像には、KABUTOの起動中に発生する問題についてのトラブルシューティングガイドが表示されています。具体的には、画面の紫色の点滅とシステムのフリーズに関する問題が説明されています。解決策として\"Shinobi Protocol\"の初期化不具合について説明され、周辺機器を全て外してから再起動する方法が推奨されています。', labels=['KABUTO', 'troubleshooting', 'system freeze', 'screen issue'], reliability=0.95))]}} (1747893361.py:12)\n",
      "2025-08-14 11:46:22,907 [    INFO] Sending notifications with state: input=AgentInputState(prompt='この画像の中身を 3 行で日本語で説明してください', id='dc32448d-5a52-4ad7-ba68-118b2e3c9d48', file_paths=['../docs/images/fastapi.png', '../docs/images/streamlit.png']) results=[Results(file_path='../docs/images/fastapi.png', result=Result(title='Diagnostic Dashboard', summary='この画像には、KABUTOの起動中に発生する問題についてのトラブルシューティングガイドが表示されています。具体的には、画面の紫色の点滅とシステムのフリーズに関する問題が説明されています。解決策として\"Shinobi Protocol\"の初期化不具合について説明され、周辺機器を全て外してから再起動する方法が推奨されています。', labels=['KABUTO', 'troubleshooting', 'system freeze', 'screen issue'], reliability=0.95)), Results(file_path='../docs/images/streamlit.png', result=Result(title='「KABUTO」と「検索ツール」', summary='このスクリーンショットはコンピュータプログラムのインターフェイスを示しています。ユーザーが「KABUTOについて教えて」と入力しており、その下に使用する検索ツールが表示されています。検索中のツールには「search_qdrant」と「search_elasticsearch」があります。', labels=['コンピュータプログラム', 'インターフェイス', '検索ツール', 'ユーザー入力', '検索エンジン'], reliability=0.95))] (agent.py:119)\n",
      "2025-08-14 11:46:22,907 [    INFO] Notification sent for request dc32448d-5a52-4ad7-ba68-118b2e3c9d48: {0: {'file_path': '../docs/images/fastapi.png', 'result': {'title': 'Diagnostic Dashboard', 'summary': 'この画像には、KABUTOの起動中に発生する問題についてのトラブルシューティングガイドが表示されています。具体的には、画面の紫色の点滅とシステムのフリーズに関する問題が説明されています。解決策として\"Shinobi Protocol\"の初期化不具合について説明され、周辺機器を全て外してから再起動する方法が推奨されています。', 'labels': ['KABUTO', 'troubleshooting', 'system freeze', 'screen issue'], 'reliability': 0.95}}, 1: {'file_path': '../docs/images/streamlit.png', 'result': {'title': '「KABUTO」と「検索ツール」', 'summary': 'このスクリーンショットはコンピュータプログラムのインターフェイスを示しています。ユーザーが「KABUTOについて教えて」と入力しており、その下に使用する検索ツールが表示されています。検索中のツールには「search_qdrant」と「search_elasticsearch」があります。', 'labels': ['コンピュータプログラム', 'インターフェイス', '検索ツール', 'ユーザー入力', '検索エンジン'], 'reliability': 0.95}}} (agent.py:32)\n",
      "2025-08-14 11:46:22,908 [    INFO] -------------------- (1747893361.py:11)\n",
      "2025-08-14 11:46:22,908 [    INFO] Event: {'notify': {'input': AgentInputState(prompt='この画像の中身を 3 行で日本語で説明してください', id='dc32448d-5a52-4ad7-ba68-118b2e3c9d48', file_paths=['../docs/images/fastapi.png', '../docs/images/streamlit.png']), 'results': [Results(file_path='../docs/images/fastapi.png', result=Result(title='Diagnostic Dashboard', summary='この画像には、KABUTOの起動中に発生する問題についてのトラブルシューティングガイドが表示されています。具体的には、画面の紫色の点滅とシステムのフリーズに関する問題が説明されています。解決策として\"Shinobi Protocol\"の初期化不具合について説明され、周辺機器を全て外してから再起動する方法が推奨されています。', labels=['KABUTO', 'troubleshooting', 'system freeze', 'screen issue'], reliability=0.95)), Results(file_path='../docs/images/streamlit.png', result=Result(title='「KABUTO」と「検索ツール」', summary='このスクリーンショットはコンピュータプログラムのインターフェイスを示しています。ユーザーが「KABUTOについて教えて」と入力しており、その下に使用する検索ツールが表示されています。検索中のツールには「search_qdrant」と「search_elasticsearch」があります。', labels=['コンピュータプログラム', 'インターフェイス', '検索ツール', 'ユーザー入力', '検索エンジン'], reliability=0.95))]}} (1747893361.py:12)\n"
     ]
    }
   ],
   "source": [
    "for event in graph.stream(\n",
    "    input=AgentState(\n",
    "        input=AgentInputState(\n",
    "            prompt=\"この画像の中身を 3 行で日本語で説明してください\",\n",
    "            id=str(uuid4()),\n",
    "            file_paths=\"../docs/images/fastapi.png,../docs/images/streamlit.png\".split(\",\"),\n",
    "        ),\n",
    "        results=[],\n",
    "    )\n",
    "):\n",
    "    logger.info(\"-\" * 20)\n",
    "    logger.info(f\"Event: {event}\")"
   ]
  },
  {
   "cell_type": "code",
   "execution_count": 5,
   "id": "c6c68866",
   "metadata": {},
   "outputs": [
    {
     "name": "stdout",
     "output_type": "stream",
     "text": [
      "{\n",
      "  \"file_path\": \"../docs/images/fastapi.png\",\n",
      "  \"result\": {\n",
      "    \"title\": \"Diagnostic Dashboard\",\n",
      "    \"summary\": \"この画像には、KABUTOの起動中に発生する問題についてのトラブルシューティングガイドが表示されています。具体的には、画面の紫色の点滅とシステムのフリーズに関する問題が説明されています。解決策として\\\"Shinobi Protocol\\\"の初期化不具合について説明され、周辺機器を全て外してから再起動する方法が推奨されています。\",\n",
      "    \"labels\": [\n",
      "      \"KABUTO\",\n",
      "      \"troubleshooting\",\n",
      "      \"system freeze\",\n",
      "      \"screen issue\"\n",
      "    ],\n",
      "    \"reliability\": 0.95\n",
      "  }\n",
      "}\n",
      "{\n",
      "  \"file_path\": \"../docs/images/streamlit.png\",\n",
      "  \"result\": {\n",
      "    \"title\": \"「KABUTO」と「検索ツール」\",\n",
      "    \"summary\": \"このスクリーンショットはコンピュータプログラムのインターフェイスを示しています。ユーザーが「KABUTOについて教えて」と入力しており、その下に使用する検索ツールが表示されています。検索中のツールには「search_qdrant」と「search_elasticsearch」があります。\",\n",
      "    \"labels\": [\n",
      "      \"コンピュータプログラム\",\n",
      "      \"インターフェイス\",\n",
      "      \"検索ツール\",\n",
      "      \"ユーザー入力\",\n",
      "      \"検索エンジン\"\n",
      "    ],\n",
      "    \"reliability\": 0.95\n",
      "  }\n",
      "}\n"
     ]
    }
   ],
   "source": [
    "results: list[Results] = event[\"notify\"][\"results\"]\n",
    "for result in results:\n",
    "    print(f\"{result.model_dump_json(indent=2)}\")"
   ]
  }
 ],
 "metadata": {
  "kernelspec": {
   "display_name": "Python 3 (ipykernel)",
   "language": "python",
   "name": "python3"
  },
  "language_info": {
   "codemirror_mode": {
    "name": "ipython",
    "version": 3
   },
   "file_extension": ".py",
   "mimetype": "text/x-python",
   "name": "python",
   "nbconvert_exporter": "python",
   "pygments_lexer": "ipython3",
   "version": "3.12.0"
  }
 },
 "nbformat": 4,
 "nbformat_minor": 5
}
