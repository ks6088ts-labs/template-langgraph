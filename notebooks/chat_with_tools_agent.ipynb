{
 "cells": [
  {
   "cell_type": "code",
   "execution_count": 1,
   "id": "1f4d669f",
   "metadata": {},
   "outputs": [],
   "source": [
    "from dotenv import load_dotenv\n",
    "\n",
    "_ = load_dotenv(\n",
    "    override=True,\n",
    "    verbose=True,\n",
    ")"
   ]
  },
  {
   "cell_type": "code",
   "execution_count": 2,
   "id": "1e7aea7c-3965-4c2c-b2d5-da9b01598d47",
   "metadata": {},
   "outputs": [],
   "source": [
    "from template_langgraph.agents.chat_with_tools_agent.agent import ChatWithToolsAgent\n",
    "\n",
    "# Create an instance of the agent\n",
    "agent = ChatWithToolsAgent().create_graph()"
   ]
  },
  {
   "cell_type": "code",
   "execution_count": 3,
   "id": "21bd80ab",
   "metadata": {},
   "outputs": [
    {
     "name": "stderr",
     "output_type": "stream",
     "text": [
      "2025-08-14 11:29:17,902 [    INFO] Chatting with tools using state: {'messages': [HumanMessage(content='「鬼灯」を実行すると、KABUTOが急に停止します。原因と対策を教えてください。', additional_kwargs={}, response_metadata={}, id='8189c1d8-316e-4643-860a-aa4b508fbe77')]} (agent.py:86)\n"
     ]
    },
    {
     "name": "stdout",
     "output_type": "stream",
     "text": [
      "--------------------\n",
      "Event: {'chat_with_tools': {'messages': [AIMessage(content='', additional_kwargs={'tool_calls': [{'index': 0, 'id': 'call_RSy3cfaGhAVHjA1MyOpWp6Su', 'function': {'arguments': '{\"keywords\": \"鬼灯停止原因\"}', 'name': 'search_qdrant'}, 'type': 'function'}, {'index': 1, 'id': 'call_mxsjnHG0QQsGOD4YHa4hTeLO', 'function': {'arguments': '{\"keywords\": \"鬼灯停止対策\"}', 'name': 'search_elasticsearch'}, 'type': 'function'}]}, response_metadata={'finish_reason': 'tool_calls', 'model_name': 'gpt-4o-2024-08-06', 'system_fingerprint': 'fp_ee1d74bde0'}, id='run--0444b956-e16f-42fc-bd23-28b2c4950ad8-0', tool_calls=[{'name': 'search_qdrant', 'args': {'keywords': '鬼灯停止原因'}, 'id': 'call_RSy3cfaGhAVHjA1MyOpWp6Su', 'type': 'tool_call'}, {'name': 'search_elasticsearch', 'args': {'keywords': '鬼灯停止対策'}, 'id': 'call_mxsjnHG0QQsGOD4YHa4hTeLO', 'type': 'tool_call'}])]}}\n"
     ]
    },
    {
     "name": "stderr",
     "output_type": "stream",
     "text": [
      "2025-08-14 11:29:21,890 [    INFO] Chatting with tools using state: {'messages': [HumanMessage(content='「鬼灯」を実行すると、KABUTOが急に停止します。原因と対策を教えてください。', additional_kwargs={}, response_metadata={}, id='8189c1d8-316e-4643-860a-aa4b508fbe77'), AIMessage(content='', additional_kwargs={'tool_calls': [{'index': 0, 'id': 'call_RSy3cfaGhAVHjA1MyOpWp6Su', 'function': {'arguments': '{\"keywords\": \"鬼灯停止原因\"}', 'name': 'search_qdrant'}, 'type': 'function'}, {'index': 1, 'id': 'call_mxsjnHG0QQsGOD4YHa4hTeLO', 'function': {'arguments': '{\"keywords\": \"鬼灯停止対策\"}', 'name': 'search_elasticsearch'}, 'type': 'function'}]}, response_metadata={'finish_reason': 'tool_calls', 'model_name': 'gpt-4o-2024-08-06', 'system_fingerprint': 'fp_ee1d74bde0'}, id='run--0444b956-e16f-42fc-bd23-28b2c4950ad8-0', tool_calls=[{'name': 'search_qdrant', 'args': {'keywords': '鬼灯停止原因'}, 'id': 'call_RSy3cfaGhAVHjA1MyOpWp6Su', 'type': 'tool_call'}, {'name': 'search_elasticsearch', 'args': {'keywords': '鬼灯停止対策'}, 'id': 'call_mxsjnHG0QQsGOD4YHa4hTeLO', 'type': 'tool_call'}]), ToolMessage(content='\"[QdrantOutput(file_name=\\'./data/reports_kabuto.csv\\', content=\\'error_code: KABUTO-0127 timestamp: 2025-08-03T10:13:02+09:00 user_message: 鬼灯実行中に過熱警告が表示され強制終了したい。\\'), QdrantOutput(file_name=\\'./data/reports_kabuto.csv\\', content=\\'error_code: KABUTO-0116 timestamp: 2025-07-28T10:12:05+09:00 user_message: 鬼灯実行中に無音状態が15分以上続き過熱が不安。\\'), QdrantOutput(file_name=\\'./data/reports_kabuto.csv\\', content=\\'error_code: KABUTO-0102 timestamp: 2025-07-20T10:03:45+09:00 user_message: アプリ鬼灯を起動するとファンが停止し無音のまま。10分で復帰せず不安。\\')]\"', name='search_qdrant', id='221830b2-e3f6-44fc-9b21-aa91da187758', tool_call_id='call_RSy3cfaGhAVHjA1MyOpWp6Su'), ToolMessage(content='\"[ElasticsearchOutput(file_name=\\'docs_kabuto.pdf\\', content=\\'「⻤灯」の実⾏中は、冷却システムが⼀時的に停⽌し、無⾳となる。これは内部エネルギーの流れを最適化するため\\\\\\\\nの仕様であり、異常ではない。ただし、この無⾳状態が 15 分以上継続する場合は、過熱の可能性があるため、アプリ\\\\\\\\nケーションの強制終了およびシステムの再起動が推奨される。\\\\\\\\n第 3 章  ソフトウェア・オペレーション\\\\\\\\n3.1 起動プロトコル\\\\\\\\nKABUTO の起動シーケンスは、「シノビ・プロトコル」に基づき実⾏される。このプロトコルの初期化フェーズで、\\\\\\\\n内部クロックと接続された外部周辺機器のクロックとの同期に失敗した場合、画⾯全体が紫⾊に点滅し、システムが\\'), ElasticsearchOutput(file_name=\\'docs_kabuto.pdf\\', content=\\'る。これにより、漢字で表⽰されている特定のフォルダ名が、ひらがなとして読み取られる現象が発⽣する。この問\\\\\\\\n題を解消するには、システム設定にて「読み⽅優先モード」を⼀時的に無効化する必要がある。\\\\\\\\n4.2 ⼊⼒・ AI アシスタント\\\\\\\\n内蔵 AI アシスタント「ヤタガラス」は、ユーザーの⼊⼒内容を予測し、システムの基幹⾔語である「KABUTO 語」に\\\\\\\\n最適化しようとする機能を持つ。これにより、特定の⽂字が⾃動的にカタカナに変換される現象が発⽣する。この機\\\\\\\\n能を⼀時的に停⽌するには、⼊⼒中にCtrlキーとShiftキーを同時に押しながら「 KABUTO 」と⼊⼒する。\\\\\\\\n4.3 スクリーンショット機能\\'), ElasticsearchOutput(file_name=\\'docs_kabuto.pdf\\', content=\\'を無効にするには、動画再⽣中に右クリックメニューから「葛飾北斎」オプションをオフにする。\\\\\\\\n4.5 システム・パーソナライゼーション\\\\\\\\n⾼度な AI 機能「天照」は、ユーザーの無意識下での情報を収集し、デスクトップの背景画像をユーザーの最後に⾒た\\\\\\\\n「夢」の内容に変更する機能を持つ。この機能を停⽌するには、システム設定内の「天照の予知夢」オプションを無\\\\\\\\n効化する。ただし、この設定の無効化は、 KABUTO の全体的なパフォーマンスの⼀部低下を招く可能性がある。\\\\\\\\n第 5 章  バグ・特殊現象\\')]\"', name='search_elasticsearch', id='1e42e013-4b18-4a96-a54a-34efdba52c14', tool_call_id='call_mxsjnHG0QQsGOD4YHa4hTeLO')]} (agent.py:86)\n"
     ]
    },
    {
     "name": "stdout",
     "output_type": "stream",
     "text": [
      "--------------------\n",
      "Event: {'tools': {'messages': [ToolMessage(content='\"[QdrantOutput(file_name=\\'./data/reports_kabuto.csv\\', content=\\'error_code: KABUTO-0127 timestamp: 2025-08-03T10:13:02+09:00 user_message: 鬼灯実行中に過熱警告が表示され強制終了したい。\\'), QdrantOutput(file_name=\\'./data/reports_kabuto.csv\\', content=\\'error_code: KABUTO-0116 timestamp: 2025-07-28T10:12:05+09:00 user_message: 鬼灯実行中に無音状態が15分以上続き過熱が不安。\\'), QdrantOutput(file_name=\\'./data/reports_kabuto.csv\\', content=\\'error_code: KABUTO-0102 timestamp: 2025-07-20T10:03:45+09:00 user_message: アプリ鬼灯を起動するとファンが停止し無音のまま。10分で復帰せず不安。\\')]\"', name='search_qdrant', id='221830b2-e3f6-44fc-9b21-aa91da187758', tool_call_id='call_RSy3cfaGhAVHjA1MyOpWp6Su'), ToolMessage(content='\"[ElasticsearchOutput(file_name=\\'docs_kabuto.pdf\\', content=\\'「⻤灯」の実⾏中は、冷却システムが⼀時的に停⽌し、無⾳となる。これは内部エネルギーの流れを最適化するため\\\\\\\\nの仕様であり、異常ではない。ただし、この無⾳状態が 15 分以上継続する場合は、過熱の可能性があるため、アプリ\\\\\\\\nケーションの強制終了およびシステムの再起動が推奨される。\\\\\\\\n第 3 章  ソフトウェア・オペレーション\\\\\\\\n3.1 起動プロトコル\\\\\\\\nKABUTO の起動シーケンスは、「シノビ・プロトコル」に基づき実⾏される。このプロトコルの初期化フェーズで、\\\\\\\\n内部クロックと接続された外部周辺機器のクロックとの同期に失敗した場合、画⾯全体が紫⾊に点滅し、システムが\\'), ElasticsearchOutput(file_name=\\'docs_kabuto.pdf\\', content=\\'る。これにより、漢字で表⽰されている特定のフォルダ名が、ひらがなとして読み取られる現象が発⽣する。この問\\\\\\\\n題を解消するには、システム設定にて「読み⽅優先モード」を⼀時的に無効化する必要がある。\\\\\\\\n4.2 ⼊⼒・ AI アシスタント\\\\\\\\n内蔵 AI アシスタント「ヤタガラス」は、ユーザーの⼊⼒内容を予測し、システムの基幹⾔語である「KABUTO 語」に\\\\\\\\n最適化しようとする機能を持つ。これにより、特定の⽂字が⾃動的にカタカナに変換される現象が発⽣する。この機\\\\\\\\n能を⼀時的に停⽌するには、⼊⼒中にCtrlキーとShiftキーを同時に押しながら「 KABUTO 」と⼊⼒する。\\\\\\\\n4.3 スクリーンショット機能\\'), ElasticsearchOutput(file_name=\\'docs_kabuto.pdf\\', content=\\'を無効にするには、動画再⽣中に右クリックメニューから「葛飾北斎」オプションをオフにする。\\\\\\\\n4.5 システム・パーソナライゼーション\\\\\\\\n⾼度な AI 機能「天照」は、ユーザーの無意識下での情報を収集し、デスクトップの背景画像をユーザーの最後に⾒た\\\\\\\\n「夢」の内容に変更する機能を持つ。この機能を停⽌するには、システム設定内の「天照の予知夢」オプションを無\\\\\\\\n効化する。ただし、この設定の無効化は、 KABUTO の全体的なパフォーマンスの⼀部低下を招く可能性がある。\\\\\\\\n第 5 章  バグ・特殊現象\\')]\"', name='search_elasticsearch', id='1e42e013-4b18-4a96-a54a-34efdba52c14', tool_call_id='call_mxsjnHG0QQsGOD4YHa4hTeLO')]}}\n",
      "--------------------\n",
      "Event: {'chat_with_tools': {'messages': [AIMessage(content='「鬼灯」を実行するとKABUTOが停止する原因として、以下のトラブル事例が報告されています:\\n\\n1. **過熱警告が表示され強制終了した**: 鬼灯を実行中に過熱を検知し、安全措置としてシステムが強制的に終了した可能性があります。(エラーコード: KABUTO-0127)\\n\\n2. **無音状態が続き過熱が不安**: 鬼灯の実行中にシステムが無音状態になり、過熱が発生する可能性がある。(エラーコード: KABUTO-0116)\\n\\n3. **ファンが停止し無音のまま**: アプリ鬼灯を起動した際にシステムの冷却ファンが停止し、無音状態が続いた不具合があります。(エラーコード: KABUTO-0102)\\n\\n対策としては以下の方法が提案されています:\\n\\n- **アプリケーションの強制終了とシステムの再起動の推奨**: 15分以上無音状態が続いた場合は、過熱の可能性があるため、アプリケーションの強制終了およびシステムの再起動を行うことが推奨されています。\\n\\n- **システム設定の調整**: 「読み優先モード」を一時的に無効化することで、この問題が発生する頻度を低減できる可能性があります。\\n\\n具体的な手順については、KABUTOのシステムマニュアルを参照しながら行うことをお勧めします。', additional_kwargs={}, response_metadata={'finish_reason': 'stop', 'model_name': 'gpt-4o-2024-08-06', 'system_fingerprint': 'fp_8458c98457'}, id='run--8d04ccd4-6865-4787-8920-736c13905695-0')]}}\n"
     ]
    }
   ],
   "source": [
    "question = \"「鬼灯」を実行すると、KABUTOが急に停止します。原因と対策を教えてください。\"\n",
    "\n",
    "# Stream the agent's response to the question\n",
    "for event in agent.stream(\n",
    "    input={\n",
    "        \"messages\": [\n",
    "            {\n",
    "                \"role\": \"user\",\n",
    "                \"content\": question,\n",
    "            }\n",
    "        ],\n",
    "    }\n",
    "):\n",
    "    print(\"-\" * 20)\n",
    "    print(f\"Event: {event}\")"
   ]
  },
  {
   "cell_type": "code",
   "execution_count": 4,
   "id": "53219c94",
   "metadata": {},
   "outputs": [
    {
     "name": "stderr",
     "output_type": "stream",
     "text": [
      "2025-08-14 11:29:25,905 [    INFO] Chatting with tools using state: {'messages': [HumanMessage(content='Dify のワークフローで京都から東京への旅行プランを作成してください。', additional_kwargs={}, response_metadata={}, id='385a1bc9-c62d-46a8-86b9-ff9b09a811e2')]} (agent.py:86)\n"
     ]
    },
    {
     "name": "stdout",
     "output_type": "stream",
     "text": [
      "--------------------\n",
      "Event: {'chat_with_tools': {'messages': [AIMessage(content='', additional_kwargs={'tool_calls': [{'index': 0, 'id': 'call_PwU0rzjLmbNwt30t6grzKCzx', 'function': {'arguments': '{\"requirements\":\"京都から東京への旅行プランを作成してください。日本語でお願いします\"}', 'name': 'run_dify_workflow'}, 'type': 'function'}]}, response_metadata={'finish_reason': 'tool_calls', 'model_name': 'gpt-4o-2024-08-06', 'system_fingerprint': 'fp_ee1d74bde0'}, id='run--c6c1fd8c-7319-4b04-8173-c29bfd0dd889-0', tool_calls=[{'name': 'run_dify_workflow', 'args': {'requirements': '京都から東京への旅行プランを作成してください。日本語でお願いします'}, 'id': 'call_PwU0rzjLmbNwt30t6grzKCzx', 'type': 'tool_call'}])]}}\n"
     ]
    },
    {
     "name": "stderr",
     "output_type": "stream",
     "text": [
      "2025-08-14 11:29:38,490 [    INFO] Chatting with tools using state: {'messages': [HumanMessage(content='Dify のワークフローで京都から東京への旅行プランを作成してください。', additional_kwargs={}, response_metadata={}, id='385a1bc9-c62d-46a8-86b9-ff9b09a811e2'), AIMessage(content='', additional_kwargs={'tool_calls': [{'index': 0, 'id': 'call_PwU0rzjLmbNwt30t6grzKCzx', 'function': {'arguments': '{\"requirements\":\"京都から東京への旅行プランを作成してください。日本語でお願いします\"}', 'name': 'run_dify_workflow'}, 'type': 'function'}]}, response_metadata={'finish_reason': 'tool_calls', 'model_name': 'gpt-4o-2024-08-06', 'system_fingerprint': 'fp_ee1d74bde0'}, id='run--c6c1fd8c-7319-4b04-8173-c29bfd0dd889-0', tool_calls=[{'name': 'run_dify_workflow', 'args': {'requirements': '京都から東京への旅行プランを作成してください。日本語でお願いします'}, 'id': 'call_PwU0rzjLmbNwt30t6grzKCzx', 'type': 'tool_call'}]), ToolMessage(content='\"response={\\'task_id\\': \\'d419751d-edf1-44cd-8527-b1dfbef9a72a\\', \\'workflow_run_id\\': \\'98411725-0e23-4178-9653-5531b523eee6\\', \\'data\\': {\\'id\\': \\'98411725-0e23-4178-9653-5531b523eee6\\', \\'workflow_id\\': \\'2d97261d-6f0e-4c1e-9223-993a96e676b8\\', \\'status\\': \\'succeeded\\', \\'outputs\\': {\\'text\\': \\'ほいほい！ほんなら京都から東京への旅行プラン、関西弁で作ったるわな！\\\\\\\\n\\\\\\\\n### 1日目: 京都を出発！\\\\\\\\n- **朝**  \\\\\\\\nせやな、まずは京都駅から新幹線で出発や！「のぞみ」に乗ったら東京まで約2時間半やし、楽ちんやで～。新幹線の中でお弁当でも食べながら景色を楽しむのもええな。\\\\\\\\n\\\\\\\\n- **昼**  \\\\\\\\n東京駅に到着したら、まずはランチや！東京駅近くにはおしゃれなカフェやレストランがいっぱいあるから、そこで腹ごしらえや。もしくは東京駅構内で売ってる駅弁を食べるのもええな。\\\\\\\\n\\\\\\\\n- **午後**  \\\\\\\\n東京観光スタートや！初日は定番スポット巡りがおすすめやで。  \\\\\\\\n① **浅草寺**  \\\\\\\\nスカイツリーも近いし、仲見世通りでお土産買ったり食べ歩きしたりするのも楽しいで～。  \\\\\\\\n② **上野公園**  \\\\\\\\n博物館や動物園を見て回るんもええわ。秋なら紅葉がきれいやし、春なら桜も最高や！  \\\\\\\\n\\\\\\\\n- **夜**  \\\\\\\\n夜になったら東京タワーのライトアップを見に行くんもロマンチックやな。お腹が減ったら六本木や新宿で居酒屋巡りしてみるのもええで！\\\\\\\\n\\\\\\\\n### 2日目: オシャレな東京を満喫！\\\\\\\\n- **朝**  \\\\\\\\nせっかく東京に来たんやから、モーニングはちょっとオシャレなカフェでいただこう。表参道とか代官山辺りはカフェの宝庫やで～。\\\\\\\\n\\\\\\\\n- **昼**  \\\\\\\\n午後からはショッピング！原宿の竹下通りで流行りのアイテム探したり、渋谷でギャル文化を体感したりするのもおもろいで。あと銀座でちょっと贅沢してブランド店巡りするんもええな。\\\\\\\\n\\\\\\\\n- **夜**  \\\\\\\\n夕方からはお台場に行ってみるのもおすすめや。夜景がきれいで、観覧車乗ったり、海の近くを散歩したりしてまったり過ごせるで。お台場のレストランでディナー食べるんもええやん！\\\\\\\\n\\\\\\\\n### 3日目: 東京をエンジョイして帰阪\\\\\\\\n- **朝**  \\\\\\\\n旅行の最終日はちょっとリラックスして、皇居周辺を散歩するんもええな。自然が多いし、東京の都会感と昔ながらの雰囲気がええ感じで混ざっとるで。\\\\\\\\n\\\\\\\\n- **昼**  \\\\\\\\nランチは東京駅構内で美味しいラーメン食べたり、蕎麦食べたりして、最後の東京グルメを満喫しとこな！\\\\\\\\n\\\\\\\\n- **午後**  \\\\\\\\n新幹線で京都へ帰ろか～。帰りの新幹線では東京土産をつまみながら、旅行の思い出話で盛り上がるんが最高やで。\\\\\\\\n\\\\\\\\nほんな感じで、ええ旅になること間違いなしや！楽しんできてや～！\\'}, \\'error\\': \\'\\', \\'elapsed_time\\': 10.881441, \\'total_tokens\\': 831, \\'total_steps\\': 3, \\'created_at\\': 1755138567, \\'finished_at\\': 1755138578}}\"', name='run_dify_workflow', id='a18595f3-480a-4938-a76b-b012c3cb3f3a', tool_call_id='call_PwU0rzjLmbNwt30t6grzKCzx')]} (agent.py:86)\n"
     ]
    },
    {
     "name": "stdout",
     "output_type": "stream",
     "text": [
      "--------------------\n",
      "Event: {'tools': {'messages': [ToolMessage(content='\"response={\\'task_id\\': \\'d419751d-edf1-44cd-8527-b1dfbef9a72a\\', \\'workflow_run_id\\': \\'98411725-0e23-4178-9653-5531b523eee6\\', \\'data\\': {\\'id\\': \\'98411725-0e23-4178-9653-5531b523eee6\\', \\'workflow_id\\': \\'2d97261d-6f0e-4c1e-9223-993a96e676b8\\', \\'status\\': \\'succeeded\\', \\'outputs\\': {\\'text\\': \\'ほいほい！ほんなら京都から東京への旅行プラン、関西弁で作ったるわな！\\\\\\\\n\\\\\\\\n### 1日目: 京都を出発！\\\\\\\\n- **朝**  \\\\\\\\nせやな、まずは京都駅から新幹線で出発や！「のぞみ」に乗ったら東京まで約2時間半やし、楽ちんやで～。新幹線の中でお弁当でも食べながら景色を楽しむのもええな。\\\\\\\\n\\\\\\\\n- **昼**  \\\\\\\\n東京駅に到着したら、まずはランチや！東京駅近くにはおしゃれなカフェやレストランがいっぱいあるから、そこで腹ごしらえや。もしくは東京駅構内で売ってる駅弁を食べるのもええな。\\\\\\\\n\\\\\\\\n- **午後**  \\\\\\\\n東京観光スタートや！初日は定番スポット巡りがおすすめやで。  \\\\\\\\n① **浅草寺**  \\\\\\\\nスカイツリーも近いし、仲見世通りでお土産買ったり食べ歩きしたりするのも楽しいで～。  \\\\\\\\n② **上野公園**  \\\\\\\\n博物館や動物園を見て回るんもええわ。秋なら紅葉がきれいやし、春なら桜も最高や！  \\\\\\\\n\\\\\\\\n- **夜**  \\\\\\\\n夜になったら東京タワーのライトアップを見に行くんもロマンチックやな。お腹が減ったら六本木や新宿で居酒屋巡りしてみるのもええで！\\\\\\\\n\\\\\\\\n### 2日目: オシャレな東京を満喫！\\\\\\\\n- **朝**  \\\\\\\\nせっかく東京に来たんやから、モーニングはちょっとオシャレなカフェでいただこう。表参道とか代官山辺りはカフェの宝庫やで～。\\\\\\\\n\\\\\\\\n- **昼**  \\\\\\\\n午後からはショッピング！原宿の竹下通りで流行りのアイテム探したり、渋谷でギャル文化を体感したりするのもおもろいで。あと銀座でちょっと贅沢してブランド店巡りするんもええな。\\\\\\\\n\\\\\\\\n- **夜**  \\\\\\\\n夕方からはお台場に行ってみるのもおすすめや。夜景がきれいで、観覧車乗ったり、海の近くを散歩したりしてまったり過ごせるで。お台場のレストランでディナー食べるんもええやん！\\\\\\\\n\\\\\\\\n### 3日目: 東京をエンジョイして帰阪\\\\\\\\n- **朝**  \\\\\\\\n旅行の最終日はちょっとリラックスして、皇居周辺を散歩するんもええな。自然が多いし、東京の都会感と昔ながらの雰囲気がええ感じで混ざっとるで。\\\\\\\\n\\\\\\\\n- **昼**  \\\\\\\\nランチは東京駅構内で美味しいラーメン食べたり、蕎麦食べたりして、最後の東京グルメを満喫しとこな！\\\\\\\\n\\\\\\\\n- **午後**  \\\\\\\\n新幹線で京都へ帰ろか～。帰りの新幹線では東京土産をつまみながら、旅行の思い出話で盛り上がるんが最高やで。\\\\\\\\n\\\\\\\\nほんな感じで、ええ旅になること間違いなしや！楽しんできてや～！\\'}, \\'error\\': \\'\\', \\'elapsed_time\\': 10.881441, \\'total_tokens\\': 831, \\'total_steps\\': 3, \\'created_at\\': 1755138567, \\'finished_at\\': 1755138578}}\"', name='run_dify_workflow', id='a18595f3-480a-4938-a76b-b012c3cb3f3a', tool_call_id='call_PwU0rzjLmbNwt30t6grzKCzx')]}}\n",
      "--------------------\n",
      "Event: {'chat_with_tools': {'messages': [AIMessage(content='Difyワークフローによって作成された京都から東京への旅行プランは以下の通りです：\\n\\n### 1日目: 京都を出発！\\n- **朝**  \\n京都駅から新幹線「のぞみ」で出発。約2時間半で東京に到着します。新幹線内でお弁当を食べながら景色を楽しむのも良いですね。\\n\\n- **昼**  \\n東京駅に到着したらランチタイムです。駅近くのカフェやレストランで腹ごしらえ、または駅弁を楽しむこともできます。\\n\\n- **午後**  \\n東京観光スタート！定番スポット巡りがおすすめです。\\n  - **浅草寺**  \\n仲見世通りでお土産を買ったり食べ歩きを楽しみましょう。\\n  - **上野公園**  \\n博物館や動物園を見学するのも良いです。秋なら紅葉、春なら桜が最高です。\\n\\n- **夜**  \\n東京タワーのライトアップを見に行くこともロマンチックです。居酒屋巡りも楽しいでしょう。\\n\\n### 2日目: オシャレな東京を満喫！\\n- **朝**  \\nオシャレなカフェでモーニングを。表参道や代官山がおすすめです。\\n\\n- **昼**  \\nショッピングタイム！原宿の竹下通りで流行アイテムを探したり、渋谷のギャル文化を体感したり、銀座で贅沢なブランド店巡りも良いですね。\\n\\n- **夜**  \\nお台場で夜景を楽しみながら観覧車に乗ったり、海の近くを散歩したりしてリラックスできます。お台場のレストランでディナーも。\\n\\n### 3日目: 東京をエンジョイして帰阪\\n- **朝**  \\n皇居周辺を散歩し、都会と自然が交わる雰囲気を楽しみましょう。\\n\\n- **昼**  \\n東京駅で美味しいラーメンや蕎麦を楽しみ、最後の東京グルメを満喫。\\n\\n- **午後**  \\n帰りの新幹線では東京土産をつまみながら旅行の思い出を語り合いましょう。\\n\\nこのプランで素晴らしい旅になること間違いなしです！楽しんでくださいね。', additional_kwargs={}, response_metadata={'finish_reason': 'stop', 'model_name': 'gpt-4o-2024-08-06', 'system_fingerprint': 'fp_ee1d74bde0'}, id='run--ea195188-ff2e-4336-9ba6-bc8b582e9c52-0')]}}\n"
     ]
    }
   ],
   "source": [
    "question = \"Dify のワークフローで京都から東京への旅行プランを作成してください。\"\n",
    "\n",
    "# Stream the agent's response to the question\n",
    "for event in agent.stream(\n",
    "    input={\n",
    "        \"messages\": [\n",
    "            {\n",
    "                \"role\": \"user\",\n",
    "                \"content\": question,\n",
    "            }\n",
    "        ],\n",
    "    }\n",
    "):\n",
    "    print(\"-\" * 20)\n",
    "    print(f\"Event: {event}\")"
   ]
  },
  {
   "cell_type": "code",
   "execution_count": null,
   "id": "d38858e3",
   "metadata": {},
   "outputs": [],
   "source": []
  }
 ],
 "metadata": {
  "kernelspec": {
   "display_name": "Python 3 (ipykernel)",
   "language": "python",
   "name": "python3"
  },
  "language_info": {
   "codemirror_mode": {
    "name": "ipython",
    "version": 3
   },
   "file_extension": ".py",
   "mimetype": "text/x-python",
   "name": "python",
   "nbconvert_exporter": "python",
   "pygments_lexer": "ipython3",
   "version": "3.12.0"
  }
 },
 "nbformat": 4,
 "nbformat_minor": 5
}
