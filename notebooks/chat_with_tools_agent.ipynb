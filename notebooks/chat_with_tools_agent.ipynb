{
 "cells": [
  {
   "cell_type": "code",
   "execution_count": 1,
   "id": "1f4d669f",
   "metadata": {},
   "outputs": [],
   "source": [
    "from dotenv import load_dotenv\n",
    "\n",
    "_ = load_dotenv(\n",
    "    override=True,\n",
    "    verbose=True,\n",
    ")"
   ]
  },
  {
   "cell_type": "code",
   "execution_count": 2,
   "id": "1e7aea7c-3965-4c2c-b2d5-da9b01598d47",
   "metadata": {},
   "outputs": [],
   "source": [
    "from template_langgraph.agents.chat_with_tools_agent.agent import ChatWithToolsAgent\n",
    "\n",
    "# Create an instance of the agent\n",
    "graph = ChatWithToolsAgent().create_graph()"
   ]
  },
  {
   "cell_type": "code",
   "execution_count": 3,
   "id": "2eef3413-0da8-4d15-9f1a-192dcb3a6224",
   "metadata": {},
   "outputs": [
    {
     "data": {
      "image/png": "[encoded data removed]",
      "text/plain": [
       "<IPython.core.display.Image object>"
      ]
     },
     "metadata": {},
     "output_type": "display_data"
    }
   ],
   "source": [
    "from IPython.display import Image, display\n",
    "\n",
    "display(Image(graph.get_graph().draw_mermaid_png()))"
   ]
  },
  {
   "cell_type": "code",
   "execution_count": 4,
   "id": "21bd80ab",
   "metadata": {},
   "outputs": [
    {
     "name": "stderr",
     "output_type": "stream",
     "text": [
      "2025-08-14 11:44:39,119 [    INFO] Chatting with tools using state: {'messages': [HumanMessage(content='「鬼灯」を実行すると、KABUTOが急に停止します。原因と対策を教えてください。', additional_kwargs={}, response_metadata={}, id='dcd526ff-9349-4f70-97f6-e3f6ed3f2e8a')]} (agent.py:86)\n"
     ]
    },
    {
     "name": "stdout",
     "output_type": "stream",
     "text": [
      "--------------------\n",
      "Event: {'chat_with_tools': {'messages': [AIMessage(content='', additional_kwargs={'tool_calls': [{'index': 0, 'id': 'call_W11gOSkoxioi450q5Kl8Kvgl', 'function': {'arguments': '{\"keywords\": \"鬼灯 KABUTO 停止 トラブルシュート\"}', 'name': 'search_elasticsearch'}, 'type': 'function'}, {'index': 1, 'id': 'call_Bvy6X0vMT9vO5InNOx2KoQWX', 'function': {'arguments': '{\"keywords\": \"鬼灯 KABUTO 停止\"}', 'name': 'search_qdrant'}, 'type': 'function'}]}, response_metadata={'finish_reason': 'tool_calls', 'model_name': 'gpt-4o-2024-08-06', 'system_fingerprint': 'fp_8458c98457'}, id='run--ebed7036-6fbe-4fa5-9f6e-ac98b0ef6106-0', tool_calls=[{'name': 'search_elasticsearch', 'args': {'keywords': '鬼灯 KABUTO 停止 トラブルシュート'}, 'id': 'call_W11gOSkoxioi450q5Kl8Kvgl', 'type': 'tool_call'}, {'name': 'search_qdrant', 'args': {'keywords': '鬼灯 KABUTO 停止'}, 'id': 'call_Bvy6X0vMT9vO5InNOx2KoQWX', 'type': 'tool_call'}])]}}\n"
     ]
    },
    {
     "name": "stderr",
     "output_type": "stream",
     "text": [
      "2025-08-14 11:44:42,766 [    INFO] Chatting with tools using state: {'messages': [HumanMessage(content='「鬼灯」を実行すると、KABUTOが急に停止します。原因と対策を教えてください。', additional_kwargs={}, response_metadata={}, id='dcd526ff-9349-4f70-97f6-e3f6ed3f2e8a'), AIMessage(content='', additional_kwargs={'tool_calls': [{'index': 0, 'id': 'call_W11gOSkoxioi450q5Kl8Kvgl', 'function': {'arguments': '{\"keywords\": \"鬼灯 KABUTO 停止 トラブルシュート\"}', 'name': 'search_elasticsearch'}, 'type': 'function'}, {'index': 1, 'id': 'call_Bvy6X0vMT9vO5InNOx2KoQWX', 'function': {'arguments': '{\"keywords\": \"鬼灯 KABUTO 停止\"}', 'name': 'search_qdrant'}, 'type': 'function'}]}, response_metadata={'finish_reason': 'tool_calls', 'model_name': 'gpt-4o-2024-08-06', 'system_fingerprint': 'fp_8458c98457'}, id='run--ebed7036-6fbe-4fa5-9f6e-ac98b0ef6106-0', tool_calls=[{'name': 'search_elasticsearch', 'args': {'keywords': '鬼灯 KABUTO 停止 トラブルシュート'}, 'id': 'call_W11gOSkoxioi450q5Kl8Kvgl', 'type': 'tool_call'}, {'name': 'search_qdrant', 'args': {'keywords': '鬼灯 KABUTO 停止'}, 'id': 'call_Bvy6X0vMT9vO5InNOx2KoQWX', 'type': 'tool_call'}]), ToolMessage(content='\"[ElasticsearchOutput(file_name=\\'docs_kabuto.pdf\\', content=\\'る。これにより、漢字で表⽰されている特定のフォルダ名が、ひらがなとして読み取られる現象が発⽣する。この問\\\\\\\\n題を解消するには、システム設定にて「読み⽅優先モード」を⼀時的に無効化する必要がある。\\\\\\\\n4.2 ⼊⼒・ AI アシスタント\\\\\\\\n内蔵 AI アシスタント「ヤタガラス」は、ユーザーの⼊⼒内容を予測し、システムの基幹⾔語である「KABUTO 語」に\\\\\\\\n最適化しようとする機能を持つ。これにより、特定の⽂字が⾃動的にカタカナに変換される現象が発⽣する。この機\\\\\\\\n能を⼀時的に停⽌するには、⼊⼒中にCtrlキーとShiftキーを同時に押しながら「 KABUTO 」と⼊⼒する。\\\\\\\\n4.3 スクリーンショット機能\\'), ElasticsearchOutput(file_name=\\'docs_kabuto.pdf\\', content=\\'「⻤灯」の実⾏中は、冷却システムが⼀時的に停⽌し、無⾳となる。これは内部エネルギーの流れを最適化するため\\\\\\\\nの仕様であり、異常ではない。ただし、この無⾳状態が 15 分以上継続する場合は、過熱の可能性があるため、アプリ\\\\\\\\nケーションの強制終了およびシステムの再起動が推奨される。\\\\\\\\n第 3 章  ソフトウェア・オペレーション\\\\\\\\n3.1 起動プロトコル\\\\\\\\nKABUTO の起動シーケンスは、「シノビ・プロトコル」に基づき実⾏される。このプロトコルの初期化フェーズで、\\\\\\\\n内部クロックと接続された外部周辺機器のクロックとの同期に失敗した場合、画⾯全体が紫⾊に点滅し、システムが\\'), ElasticsearchOutput(file_name=\\'docs_kabuto.pdf\\', content=\\'を無効にするには、動画再⽣中に右クリックメニューから「葛飾北斎」オプションをオフにする。\\\\\\\\n4.5 システム・パーソナライゼーション\\\\\\\\n⾼度な AI 機能「天照」は、ユーザーの無意識下での情報を収集し、デスクトップの背景画像をユーザーの最後に⾒た\\\\\\\\n「夢」の内容に変更する機能を持つ。この機能を停⽌するには、システム設定内の「天照の予知夢」オプションを無\\\\\\\\n効化する。ただし、この設定の無効化は、 KABUTO の全体的なパフォーマンスの⼀部低下を招く可能性がある。\\\\\\\\n第 5 章  バグ・特殊現象\\')]\"', name='search_elasticsearch', id='892ceeb9-1a6a-40b2-8532-8dc3816b20b9', tool_call_id='call_W11gOSkoxioi450q5Kl8Kvgl'), ToolMessage(content='\"[QdrantOutput(file_name=\\'./data/qa_kabuto.csv\\', content=\\'q: 特定のアプリケーション「鬼灯」を実行すると、KABUTOのファンが急に停止し、無音になります。 a: 「鬼灯」は、その特殊な演算処理において、KABUTOの冷却システム「風魔の術」を一時的に停止させ、内部エネルギーの流れを最適化する機能を持っています。これは異常ではありません。ただし、無音状態が15分以上続く場合は、過熱の可能性があるため、アプリケーションを強制終了し、KABUTO本体の電源を一度切ってから再起動してください。\\'), QdrantOutput(file_name=\\'./data/reports_kabuto.csv\\', content=\\'error_code: KABUTO-0116 timestamp: 2025-07-28T10:12:05+09:00 user_message: 鬼灯実行中に無音状態が15分以上続き過熱が不安。\\'), QdrantOutput(file_name=\\'./data/qa_kabuto.csv\\', content=\\'q: KABUTOの電源ランプが、赤と青の交互点滅ではなく、緑色で点滅しています。 a: 通常、電源ランプは赤（待機中）と青（稼働中）の点滅を繰り返します。緑色の点滅は、KABUTOが「禅モード」に入っており、パフォーマンスを最小限に抑え、バックグラウンドでシステム自己修復を行っている状態を示します。この状態では、ユーザー操作はほとんど受け付けられません。このモードから強制的に脱出するには、KABUTO本体の「龍玉」ボタンを5秒以上長押ししてください。\\')]\"', name='search_qdrant', id='b7cdf1a6-76a9-40d0-863c-91a1d3d7be56', tool_call_id='call_Bvy6X0vMT9vO5InNOx2KoQWX')]} (agent.py:86)\n"
     ]
    },
    {
     "name": "stdout",
     "output_type": "stream",
     "text": [
      "--------------------\n",
      "Event: {'tools': {'messages': [ToolMessage(content='\"[ElasticsearchOutput(file_name=\\'docs_kabuto.pdf\\', content=\\'る。これにより、漢字で表⽰されている特定のフォルダ名が、ひらがなとして読み取られる現象が発⽣する。この問\\\\\\\\n題を解消するには、システム設定にて「読み⽅優先モード」を⼀時的に無効化する必要がある。\\\\\\\\n4.2 ⼊⼒・ AI アシスタント\\\\\\\\n内蔵 AI アシスタント「ヤタガラス」は、ユーザーの⼊⼒内容を予測し、システムの基幹⾔語である「KABUTO 語」に\\\\\\\\n最適化しようとする機能を持つ。これにより、特定の⽂字が⾃動的にカタカナに変換される現象が発⽣する。この機\\\\\\\\n能を⼀時的に停⽌するには、⼊⼒中にCtrlキーとShiftキーを同時に押しながら「 KABUTO 」と⼊⼒する。\\\\\\\\n4.3 スクリーンショット機能\\'), ElasticsearchOutput(file_name=\\'docs_kabuto.pdf\\', content=\\'「⻤灯」の実⾏中は、冷却システムが⼀時的に停⽌し、無⾳となる。これは内部エネルギーの流れを最適化するため\\\\\\\\nの仕様であり、異常ではない。ただし、この無⾳状態が 15 分以上継続する場合は、過熱の可能性があるため、アプリ\\\\\\\\nケーションの強制終了およびシステムの再起動が推奨される。\\\\\\\\n第 3 章  ソフトウェア・オペレーション\\\\\\\\n3.1 起動プロトコル\\\\\\\\nKABUTO の起動シーケンスは、「シノビ・プロトコル」に基づき実⾏される。このプロトコルの初期化フェーズで、\\\\\\\\n内部クロックと接続された外部周辺機器のクロックとの同期に失敗した場合、画⾯全体が紫⾊に点滅し、システムが\\'), ElasticsearchOutput(file_name=\\'docs_kabuto.pdf\\', content=\\'を無効にするには、動画再⽣中に右クリックメニューから「葛飾北斎」オプションをオフにする。\\\\\\\\n4.5 システム・パーソナライゼーション\\\\\\\\n⾼度な AI 機能「天照」は、ユーザーの無意識下での情報を収集し、デスクトップの背景画像をユーザーの最後に⾒た\\\\\\\\n「夢」の内容に変更する機能を持つ。この機能を停⽌するには、システム設定内の「天照の予知夢」オプションを無\\\\\\\\n効化する。ただし、この設定の無効化は、 KABUTO の全体的なパフォーマンスの⼀部低下を招く可能性がある。\\\\\\\\n第 5 章  バグ・特殊現象\\')]\"', name='search_elasticsearch', id='892ceeb9-1a6a-40b2-8532-8dc3816b20b9', tool_call_id='call_W11gOSkoxioi450q5Kl8Kvgl'), ToolMessage(content='\"[QdrantOutput(file_name=\\'./data/qa_kabuto.csv\\', content=\\'q: 特定のアプリケーション「鬼灯」を実行すると、KABUTOのファンが急に停止し、無音になります。 a: 「鬼灯」は、その特殊な演算処理において、KABUTOの冷却システム「風魔の術」を一時的に停止させ、内部エネルギーの流れを最適化する機能を持っています。これは異常ではありません。ただし、無音状態が15分以上続く場合は、過熱の可能性があるため、アプリケーションを強制終了し、KABUTO本体の電源を一度切ってから再起動してください。\\'), QdrantOutput(file_name=\\'./data/reports_kabuto.csv\\', content=\\'error_code: KABUTO-0116 timestamp: 2025-07-28T10:12:05+09:00 user_message: 鬼灯実行中に無音状態が15分以上続き過熱が不安。\\'), QdrantOutput(file_name=\\'./data/qa_kabuto.csv\\', content=\\'q: KABUTOの電源ランプが、赤と青の交互点滅ではなく、緑色で点滅しています。 a: 通常、電源ランプは赤（待機中）と青（稼働中）の点滅を繰り返します。緑色の点滅は、KABUTOが「禅モード」に入っており、パフォーマンスを最小限に抑え、バックグラウンドでシステム自己修復を行っている状態を示します。この状態では、ユーザー操作はほとんど受け付けられません。このモードから強制的に脱出するには、KABUTO本体の「龍玉」ボタンを5秒以上長押ししてください。\\')]\"', name='search_qdrant', id='b7cdf1a6-76a9-40d0-863c-91a1d3d7be56', tool_call_id='call_Bvy6X0vMT9vO5InNOx2KoQWX')]}}\n",
      "--------------------\n",
      "Event: {'chat_with_tools': {'messages': [AIMessage(content='「鬼灯」を実行するとKABUTOシステムが停止する問題に関して、以下の情報があります。\\n\\n### 原因\\n1. **システムの特性による停止**:\\n   - 「鬼灯」アプリケーションを実行する際に、KABUTOの冷却システム「風魔の術」を一時的に停止し、内部エネルギーの流れを最適化するような特性があることが報告されています。これは異常な状態ではなく、システムの設計上の特性です。\\n\\n### 対策\\n1. **正常な範囲での動作**:\\n   - 「鬼灯」を実行した結果、無音状態が15分以上続く場合は過熱の可能性があります。その場合、アプリケーションを強制終了し、KABUTO本体の電源を一度切ってから再起動することが推奨されています。\\n2. **ユーザー操作の提案**:\\n   - システムが「禅モード」に入っている場合、パフォーマンスは最小限に抑えられ、ユーザー操作はほとんど受け付けられません。この状態から強制的に脱出するには、KABUTO本体の「龍玉」ボタンを5秒以上長押ししてください。\\n\\nこれらの手順を行うことで、正常にシステムを復旧できる可能性があります。問題が続く場合は、専門的なサポートが必要です。', additional_kwargs={}, response_metadata={'finish_reason': 'stop', 'model_name': 'gpt-4o-2024-08-06', 'system_fingerprint': 'fp_ee1d74bde0'}, id='run--317f98d0-1084-444e-958c-0e6156ad2938-0')]}}\n"
     ]
    }
   ],
   "source": [
    "question = \"「鬼灯」を実行すると、KABUTOが急に停止します。原因と対策を教えてください。\"\n",
    "\n",
    "# Stream the agent's response to the question\n",
    "for event in graph.stream(\n",
    "    input={\n",
    "        \"messages\": [\n",
    "            {\n",
    "                \"role\": \"user\",\n",
    "                \"content\": question,\n",
    "            }\n",
    "        ],\n",
    "    }\n",
    "):\n",
    "    print(\"-\" * 20)\n",
    "    print(f\"Event: {event}\")"
   ]
  },
  {
   "cell_type": "code",
   "execution_count": 5,
   "id": "53219c94",
   "metadata": {},
   "outputs": [
    {
     "name": "stderr",
     "output_type": "stream",
     "text": [
      "2025-08-14 11:44:45,912 [    INFO] Chatting with tools using state: {'messages': [HumanMessage(content='Dify のワークフローで京都から東京への旅行プランを作成してください。', additional_kwargs={}, response_metadata={}, id='faf9ba16-1a90-4ba6-943d-234adbef1517')]} (agent.py:86)\n"
     ]
    },
    {
     "name": "stdout",
     "output_type": "stream",
     "text": [
      "--------------------\n",
      "Event: {'chat_with_tools': {'messages': [AIMessage(content='', additional_kwargs={'tool_calls': [{'index': 0, 'id': 'call_gvZ3HG8OP1hhJOcTSwMPnbDu', 'function': {'arguments': '{\"requirements\":\"京都から東京への旅行プランを作成してください。日本語でお願いします。\"}', 'name': 'run_dify_workflow'}, 'type': 'function'}]}, response_metadata={'finish_reason': 'tool_calls', 'model_name': 'gpt-4o-2024-08-06', 'system_fingerprint': 'fp_8458c98457'}, id='run--0cc3a9de-2c05-419f-9d38-629c16e4c37b-0', tool_calls=[{'name': 'run_dify_workflow', 'args': {'requirements': '京都から東京への旅行プランを作成してください。日本語でお願いします。'}, 'id': 'call_gvZ3HG8OP1hhJOcTSwMPnbDu', 'type': 'tool_call'}])]}}\n"
     ]
    },
    {
     "name": "stderr",
     "output_type": "stream",
     "text": [
      "2025-08-14 11:44:56,270 [    INFO] Chatting with tools using state: {'messages': [HumanMessage(content='Dify のワークフローで京都から東京への旅行プランを作成してください。', additional_kwargs={}, response_metadata={}, id='faf9ba16-1a90-4ba6-943d-234adbef1517'), AIMessage(content='', additional_kwargs={'tool_calls': [{'index': 0, 'id': 'call_gvZ3HG8OP1hhJOcTSwMPnbDu', 'function': {'arguments': '{\"requirements\":\"京都から東京への旅行プランを作成してください。日本語でお願いします。\"}', 'name': 'run_dify_workflow'}, 'type': 'function'}]}, response_metadata={'finish_reason': 'tool_calls', 'model_name': 'gpt-4o-2024-08-06', 'system_fingerprint': 'fp_8458c98457'}, id='run--0cc3a9de-2c05-419f-9d38-629c16e4c37b-0', tool_calls=[{'name': 'run_dify_workflow', 'args': {'requirements': '京都から東京への旅行プランを作成してください。日本語でお願いします。'}, 'id': 'call_gvZ3HG8OP1hhJOcTSwMPnbDu', 'type': 'tool_call'}]), ToolMessage(content='\"response={\\'task_id\\': \\'34df9bb8-7ad1-49da-a48c-d0028e56a0d6\\', \\'workflow_run_id\\': \\'4e261940-6cef-4e6f-a003-c5c4e19d1fd3\\', \\'data\\': {\\'id\\': \\'4e261940-6cef-4e6f-a003-c5c4e19d1fd3\\', \\'workflow_id\\': \\'2d97261d-6f0e-4c1e-9223-993a96e676b8\\', \\'status\\': \\'succeeded\\', \\'outputs\\': {\\'text\\': \\'ほんなら、京都から東京への旅行プラン作ったるわな！ほな、いこか。\\\\\\\\n\\\\\\\\n---\\\\\\\\n\\\\\\\\n### **1日目：京都出発！東京へ向かうで〜**\\\\\\\\n- **朝**：\\\\\\\\n  新幹線「のぞみ」に乗って、京都駅から東京駅まで向かうんや。新幹線やったら約2時間半や！早いし楽ちんやで。駅弁な、京都らしいもん買ってお腹も満たしときや〜。\\\\\\\\n\\\\\\\\n- **昼**：\\\\\\\\n  東京駅に到着したら、丸の内周辺でランチやな。ちょっとええ感じのカフェでも探して、東京の雰囲気味わいながらゆっくりしとき。\\\\\\\\n\\\\\\\\n- **午後**：\\\\\\\\n  東京の定番スポット「浅草」に行こか。雷門で写真撮ったり、仲見世通りでお土産探したり、名物の「もんじゃ焼き」もええな！\\\\\\\\n\\\\\\\\n- **夜**：\\\\\\\\n  東京スカイツリーに行って夜景を楽しむんや。展望台から見る東京の景色はほんまに最高やで！晩ごはんはスカイツリー周辺のレストランでええもん食べてな。\\\\\\\\n\\\\\\\\n---\\\\\\\\n\\\\\\\\n### **2日目：東京観光満喫するで！**\\\\\\\\n- **朝**：\\\\\\\\n  早起きして「築地市場」に行こか。新鮮な海鮮丼や寿司を朝ごはんにして、元気つけるんや！東京の味、堪能しとき。\\\\\\\\n\\\\\\\\n- **昼**：\\\\\\\\n  原宿・表参道あたりをぶらぶらして、若者の街の雰囲気を楽しむんや。おしゃれなカフェやショップがぎょうさんあるから、ええもん見つけるかもな。\\\\\\\\n\\\\\\\\n- **午後**：\\\\\\\\n  渋谷の「スクランブル交差点」、これも外せへんやろ。人の多さにびっくりするかもしれんけど、写真撮って遊びながら楽しむんや。渋谷109でショッピングもええで。\\\\\\\\n\\\\\\\\n- **夜**：\\\\\\\\n  新宿の「歌舞伎町」や「ゴールデン街」に行って、東京の夜を満喫するんもええかもな！居酒屋で関東の料理を味わってみるのもおすすめや。\\\\\\\\n\\\\\\\\n---\\\\\\\\n\\\\\\\\n### **3日目：東京から京都へ帰るで〜**\\\\\\\\n- **朝**：\\\\\\\\n  ゆっくり起きて、「皇居外苑」を散歩して自然を楽しむんや。東京の真ん中にこんな広い場所があるなんてビックリするで。\\\\\\\\n\\\\\\\\n- **昼**：\\\\\\\\n  最後のランチは東京駅周辺で食べるんがええやろ。東京らしいもん、ラーメンとか洋食とかいろいろあるから選び放題や。\\\\\\\\n\\\\\\\\n- **午後**：\\\\\\\\n  新幹線に乗って京都に帰るんや。帰りの電車で旅の思い出を振り返りながら、ゆっくりくつろぎや。\\\\\\\\n\\\\\\\\n---\\\\\\\\n\\\\\\\\nこんな感じでどうや？関西人やけど、東京もええところやから、楽しんでな〜！安全第一でいってらっしゃいやで！\\'}, \\'error\\': \\'\\', \\'elapsed_time\\': 8.946784, \\'total_tokens\\': 832, \\'total_steps\\': 3, \\'created_at\\': 1755139487, \\'finished_at\\': 1755139496}}\"', name='run_dify_workflow', id='74044764-0c13-47f2-9968-33453fa660d8', tool_call_id='call_gvZ3HG8OP1hhJOcTSwMPnbDu')]} (agent.py:86)\n"
     ]
    },
    {
     "name": "stdout",
     "output_type": "stream",
     "text": [
      "--------------------\n",
      "Event: {'tools': {'messages': [ToolMessage(content='\"response={\\'task_id\\': \\'34df9bb8-7ad1-49da-a48c-d0028e56a0d6\\', \\'workflow_run_id\\': \\'4e261940-6cef-4e6f-a003-c5c4e19d1fd3\\', \\'data\\': {\\'id\\': \\'4e261940-6cef-4e6f-a003-c5c4e19d1fd3\\', \\'workflow_id\\': \\'2d97261d-6f0e-4c1e-9223-993a96e676b8\\', \\'status\\': \\'succeeded\\', \\'outputs\\': {\\'text\\': \\'ほんなら、京都から東京への旅行プラン作ったるわな！ほな、いこか。\\\\\\\\n\\\\\\\\n---\\\\\\\\n\\\\\\\\n### **1日目：京都出発！東京へ向かうで〜**\\\\\\\\n- **朝**：\\\\\\\\n  新幹線「のぞみ」に乗って、京都駅から東京駅まで向かうんや。新幹線やったら約2時間半や！早いし楽ちんやで。駅弁な、京都らしいもん買ってお腹も満たしときや〜。\\\\\\\\n\\\\\\\\n- **昼**：\\\\\\\\n  東京駅に到着したら、丸の内周辺でランチやな。ちょっとええ感じのカフェでも探して、東京の雰囲気味わいながらゆっくりしとき。\\\\\\\\n\\\\\\\\n- **午後**：\\\\\\\\n  東京の定番スポット「浅草」に行こか。雷門で写真撮ったり、仲見世通りでお土産探したり、名物の「もんじゃ焼き」もええな！\\\\\\\\n\\\\\\\\n- **夜**：\\\\\\\\n  東京スカイツリーに行って夜景を楽しむんや。展望台から見る東京の景色はほんまに最高やで！晩ごはんはスカイツリー周辺のレストランでええもん食べてな。\\\\\\\\n\\\\\\\\n---\\\\\\\\n\\\\\\\\n### **2日目：東京観光満喫するで！**\\\\\\\\n- **朝**：\\\\\\\\n  早起きして「築地市場」に行こか。新鮮な海鮮丼や寿司を朝ごはんにして、元気つけるんや！東京の味、堪能しとき。\\\\\\\\n\\\\\\\\n- **昼**：\\\\\\\\n  原宿・表参道あたりをぶらぶらして、若者の街の雰囲気を楽しむんや。おしゃれなカフェやショップがぎょうさんあるから、ええもん見つけるかもな。\\\\\\\\n\\\\\\\\n- **午後**：\\\\\\\\n  渋谷の「スクランブル交差点」、これも外せへんやろ。人の多さにびっくりするかもしれんけど、写真撮って遊びながら楽しむんや。渋谷109でショッピングもええで。\\\\\\\\n\\\\\\\\n- **夜**：\\\\\\\\n  新宿の「歌舞伎町」や「ゴールデン街」に行って、東京の夜を満喫するんもええかもな！居酒屋で関東の料理を味わってみるのもおすすめや。\\\\\\\\n\\\\\\\\n---\\\\\\\\n\\\\\\\\n### **3日目：東京から京都へ帰るで〜**\\\\\\\\n- **朝**：\\\\\\\\n  ゆっくり起きて、「皇居外苑」を散歩して自然を楽しむんや。東京の真ん中にこんな広い場所があるなんてビックリするで。\\\\\\\\n\\\\\\\\n- **昼**：\\\\\\\\n  最後のランチは東京駅周辺で食べるんがええやろ。東京らしいもん、ラーメンとか洋食とかいろいろあるから選び放題や。\\\\\\\\n\\\\\\\\n- **午後**：\\\\\\\\n  新幹線に乗って京都に帰るんや。帰りの電車で旅の思い出を振り返りながら、ゆっくりくつろぎや。\\\\\\\\n\\\\\\\\n---\\\\\\\\n\\\\\\\\nこんな感じでどうや？関西人やけど、東京もええところやから、楽しんでな〜！安全第一でいってらっしゃいやで！\\'}, \\'error\\': \\'\\', \\'elapsed_time\\': 8.946784, \\'total_tokens\\': 832, \\'total_steps\\': 3, \\'created_at\\': 1755139487, \\'finished_at\\': 1755139496}}\"', name='run_dify_workflow', id='74044764-0c13-47f2-9968-33453fa660d8', tool_call_id='call_gvZ3HG8OP1hhJOcTSwMPnbDu')]}}\n",
      "--------------------\n",
      "Event: {'chat_with_tools': {'messages': [AIMessage(content='旅行プランが完成しました！こちらは京都から東京への3日間の旅行プランの内容です：\\n\\n---\\n\\n### **1日目：京都出発！東京へ向かうで〜**\\n- **朝**：\\n  新幹線「のぞみ」に乗って、京都駅から東京駅まで向かいましょう。新幹線なら約2時間半と早くて楽です。京都ならではの駅弁を買ってお腹を満たしておくのもいいですね。\\n\\n- **昼**：\\n  東京駅に到着したら、丸の内周辺でランチはいかがでしょうか。雰囲気の良いカフェを探して、東京の雰囲気を味わいながらゆっくり過ごしましょう。\\n\\n- **午後**：\\n  東京の定番スポット「浅草」に行くのがおすすめです。雷門で写真を撮ったり、仲見世通りでお土産を探したり、名物の「もんじゃ焼き」も楽しめます！\\n\\n- **夜**：\\n  東京スカイツリーで夜景を楽しみましょう。展望台から見る東京の景色は本当に最高です！晩ごはんはスカイツリー周辺のレストランで美味しいものを食べると素敵ですね。\\n\\n---\\n\\n### **2日目：東京観光満喫するで！**\\n- **朝**：\\n  早起きして「築地市場」で新鮮な海鮮丼や寿司を朝ごはんにするのも良いですね。東京の味を堪能しましょう。\\n\\n- **昼**：\\n  原宿・表参道あたりをぶらぶらして、若者の街の雰囲気を楽しんでください。おしゃれなカフェやショップがたくさんあるので、素敵なものが見つかるかもしれません。\\n\\n- **午後**：\\n  渋谷の「スクランブル交差点」は外せません。人の多さに驚くかもしれませんが、写真を撮って楽しんでください。渋谷109でショッピングもおすすめです。\\n\\n- **夜**：\\n  新宿の「歌舞伎町」や「ゴールデン街」に行って、東京の夜を満喫するのも良いですね！居酒屋で関東の料理を味わってみるのもおすすめです。\\n\\n---\\n\\n### **3日目：東京から京都へ帰るで〜**\\n- **朝**：\\n  のんびり起きて、「皇居外苑」を散歩して自然を楽しみましょう。東京の真ん中にこんな広い場所があることに驚くはずです。\\n\\n- **昼**：\\n  最後のランチは東京駅周辺で楽しむのが良いでしょう。東京らしいラーメンや洋食など、いろいろな選択肢があります。\\n\\n- **午後**：\\n  新幹線に乗って京都に帰ります。帰りの電車で旅の思い出を振り返りながら、ゆっくりくつろぎましょう。\\n\\n---\\n\\nこのプランで楽しい東京旅行をお過ごしください！安全第一でいってらっしゃいませ。', additional_kwargs={}, response_metadata={'finish_reason': 'stop', 'model_name': 'gpt-4o-2024-08-06', 'system_fingerprint': 'fp_ee1d74bde0'}, id='run--02acaef8-4ff2-4041-b0b4-ab680562f3e8-0')]}}\n"
     ]
    }
   ],
   "source": [
    "question = \"Dify のワークフローで京都から東京への旅行プランを作成してください。\"\n",
    "\n",
    "# Stream the agent's response to the question\n",
    "for event in graph.stream(\n",
    "    input={\n",
    "        \"messages\": [\n",
    "            {\n",
    "                \"role\": \"user\",\n",
    "                \"content\": question,\n",
    "            }\n",
    "        ],\n",
    "    }\n",
    "):\n",
    "    print(\"-\" * 20)\n",
    "    print(f\"Event: {event}\")"
   ]
  }
 ],
 "metadata": {
  "kernelspec": {
   "display_name": "Python 3 (ipykernel)",
   "language": "python",
   "name": "python3"
  },
  "language_info": {
   "codemirror_mode": {
    "name": "ipython",
    "version": 3
   },
   "file_extension": ".py",
   "mimetype": "text/x-python",
   "name": "python",
   "nbconvert_exporter": "python",
   "pygments_lexer": "ipython3",
   "version": "3.12.0"
  }
 },
 "nbformat": 4,
 "nbformat_minor": 5
}
