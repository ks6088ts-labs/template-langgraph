{
 "cells": [
  {
   "cell_type": "code",
   "execution_count": 1,
   "id": "8c3fc72d-5014-41f9-ad2f-5696a057acfe",
   "metadata": {},
   "outputs": [],
   "source": [
    "from dotenv import load_dotenv\n",
    "\n",
    "_ = load_dotenv(\n",
    "    override=True,\n",
    "    verbose=True,\n",
    ")"
   ]
  },
  {
   "cell_type": "code",
   "execution_count": 2,
   "id": "a96ceb73-447d-44b6-ba96-f5fa9f591b70",
   "metadata": {},
   "outputs": [],
   "source": [
    "from template_langgraph.agents.issue_formatter_agent.agent import IssueFormatterAgent\n",
    "\n",
    "# Create an instance of the agent\n",
    "graph = IssueFormatterAgent().create_graph()"
   ]
  },
  {
   "cell_type": "code",
   "execution_count": 3,
   "id": "56391bdc-06ea-4161-a57f-273f8ae17d92",
   "metadata": {},
   "outputs": [
    {
     "data": {
      "image/png": "[encoded data removed]",
      "text/plain": [
       "<IPython.core.display.Image object>"
      ]
     },
     "metadata": {},
     "output_type": "display_data"
    }
   ],
   "source": [
    "from IPython.display import Image, display\n",
    "\n",
    "display(Image(graph.get_graph().draw_mermaid_png()))"
   ]
  },
  {
   "cell_type": "code",
   "execution_count": 4,
   "id": "c23a49b7-a3e9-4685-899e-3e7c02278360",
   "metadata": {},
   "outputs": [
    {
     "name": "stderr",
     "output_type": "stream",
     "text": [
      "2025-08-14 11:46:56,536 [    INFO] Analyzing issue with state: {'messages': [HumanMessage(content='KABUTOにログインできない！パスワードは合ってるはずなのに…若手社員である山田太郎は、Windows 11 を立ち上げ、日課のように自社の業務システムKABUTOのログイン画面を開きます。しかし、そこには、意味をなさない「虚無」という文字だけがただひっそりと表示されていたのです。これは質問でもあり不具合の報告でもあります。岡本太郎さんに本件調査依頼します。', additional_kwargs={}, response_metadata={}, id='8f90e0b8-59ec-4c33-8975-cc6418a5a6e1')]} (agent.py:33)\n"
     ]
    },
    {
     "name": "stdout",
     "output_type": "stream",
     "text": [
      "--------------------\n",
      "Event: {'analyze': {'messages': [HumanMessage(content='KABUTOにログインできない！パスワードは合ってるはずなのに…若手社員である山田太郎は、Windows 11 を立ち上げ、日課のように自社の業務システムKABUTOのログイン画面を開きます。しかし、そこには、意味をなさない「虚無」という文字だけがただひっそりと表示されていたのです。これは質問でもあり不具合の報告でもあります。岡本太郎さんに本件調査依頼します。', additional_kwargs={}, response_metadata={}, id='8f90e0b8-59ec-4c33-8975-cc6418a5a6e1')], 'issue': Issue(title='KABUTOログイン問題：虚無の文字表示', description='若手社員である山田太郎がWindows 11を使って業務システムKABUTOにログインしようとした際、ログイン画面に意味をなさない「虚無」という文字が表示される問題が発生しています。パスワードは合っているはずですが、ログインできません。これは質問であり、不具合の報告でもあります。岡本太郎さんに調査依頼します。', labels=[<IssueLabel.BUG: 'bug'>, <IssueLabel.QUESTION: 'question'>], assignee='岡本太郎', milestone='未定', system_info=SystemInfo(os='Windows 11', version=None), steps_to_reproduce=['Windows 11を立ち上げる', '自社の業務システムKABUTOのログイン画面を開く', '正しいパスワードを入力', 'ログインボタンをクリックする'], current_behavior='ログイン画面に「虚無」の文字が表示され、ログインできない', expected_behavior='ログイン画面にエラーメッセージが表示される、または正しくログインできる')}}\n"
     ]
    }
   ],
   "source": [
    "question = \"KABUTOにログインできない！パスワードは合ってるはずなのに…若手社員である山田太郎は、Windows 11 を立ち上げ、日課のように自社の業務システムKABUTOのログイン画面を開きます。しかし、そこには、意味をなさない「虚無」という文字だけがただひっそりと表示されていたのです。これは質問でもあり不具合の報告でもあります。岡本太郎さんに本件調査依頼します。\"  # noqa: E501\n",
    "\n",
    "# Stream the agent's response to the question\n",
    "for event in graph.stream(\n",
    "    input={\n",
    "        \"messages\": [\n",
    "            {\n",
    "                \"role\": \"user\",\n",
    "                \"content\": question,\n",
    "            }\n",
    "        ],\n",
    "    }\n",
    "):\n",
    "    print(\"-\" * 20)\n",
    "    print(f\"Event: {event}\")"
   ]
  },
  {
   "cell_type": "code",
   "execution_count": 5,
   "id": "ea28f1f5",
   "metadata": {},
   "outputs": [
    {
     "name": "stdout",
     "output_type": "stream",
     "text": [
      "{\n",
      "  \"title\": \"KABUTOログイン問題：虚無の文字表示\",\n",
      "  \"description\": \"若手社員である山田太郎がWindows 11を使って業務システムKABUTOにログインしようとした際、ログイン画面に意味をなさない「虚無」という文字が表示される問題が発生しています。パスワードは合っているはずですが、ログインできません。これは質問であり、不具合の報告でもあります。岡本太郎さんに調査依頼します。\",\n",
      "  \"labels\": [\n",
      "    \"bug\",\n",
      "    \"question\"\n",
      "  ],\n",
      "  \"assignee\": \"岡本太郎\",\n",
      "  \"milestone\": \"未定\",\n",
      "  \"system_info\": {\n",
      "    \"os\": \"Windows 11\",\n",
      "    \"version\": null\n",
      "  },\n",
      "  \"steps_to_reproduce\": [\n",
      "    \"Windows 11を立ち上げる\",\n",
      "    \"自社の業務システムKABUTOのログイン画面を開く\",\n",
      "    \"正しいパスワードを入力\",\n",
      "    \"ログインボタンをクリックする\"\n",
      "  ],\n",
      "  \"current_behavior\": \"ログイン画面に「虚無」の文字が表示され、ログインできない\",\n",
      "  \"expected_behavior\": \"ログイン画面にエラーメッセージが表示される、または正しくログインできる\"\n",
      "}\n"
     ]
    }
   ],
   "source": [
    "print(event[\"analyze\"][\"issue\"].model_dump_json(indent=2))  # noqa"
   ]
  }
 ],
 "metadata": {
  "kernelspec": {
   "display_name": "Python 3 (ipykernel)",
   "language": "python",
   "name": "python3"
  },
  "language_info": {
   "codemirror_mode": {
    "name": "ipython",
    "version": 3
   },
   "file_extension": ".py",
   "mimetype": "text/x-python",
   "name": "python",
   "nbconvert_exporter": "python",
   "pygments_lexer": "ipython3",
   "version": "3.12.0"
  }
 },
 "nbformat": 4,
 "nbformat_minor": 5
}
