{
 "cells": [
  {
   "cell_type": "code",
   "execution_count": 1,
   "id": "8c3fc72d-5014-41f9-ad2f-5696a057acfe",
   "metadata": {},
   "outputs": [],
   "source": [
    "from dotenv import load_dotenv\n",
    "\n",
    "_ = load_dotenv(\n",
    "    override=True,\n",
    "    verbose=True,\n",
    ")"
   ]
  },
  {
   "cell_type": "code",
   "execution_count": 2,
   "id": "a96ceb73-447d-44b6-ba96-f5fa9f591b70",
   "metadata": {},
   "outputs": [],
   "source": [
    "from template_langgraph.agents.issue_formatter_agent.agent import IssueFormatterAgent\n",
    "\n",
    "# Create an instance of the agent\n",
    "agent = IssueFormatterAgent().create_graph()"
   ]
  },
  {
   "cell_type": "code",
   "execution_count": 3,
   "id": "c23a49b7-a3e9-4685-899e-3e7c02278360",
   "metadata": {},
   "outputs": [
    {
     "name": "stdout",
     "output_type": "stream",
     "text": [
      "--------------------\n",
      "Event: {'analyze': {'messages': [HumanMessage(content='KABUTOにログインできない！パスワードは合ってるはずなのに…若手社員である山田太郎は、Windows 11 を立ち上げ、日課のように自社の業務システムKABUTOのログイン画面を開きます。しかし、そこには、意味をなさない「虚無」という文字だけがただひっそりと表示されていたのです。これは質問でもあり不具合の報告でもあります。岡本太郎さんに本件調査依頼します。', additional_kwargs={}, response_metadata={}, id='6acb805e-d012-4a58-89ac-8e5c1bb58eac')], 'issue': Issue(title='KABUTOログイン問題', description='若手社員の山田太郎さんが、Windows 11環境で業務システムKABUTOにログインしようとした際、ログイン画面に「虚無」という文字が表示され、ログインできない問題が発生しました。', labels=[<IssueLabel.BUG: 'bug'>, <IssueLabel.QUESTION: 'question'>], assignee='岡本太郎', milestone=None, system_info=SystemInfo(os='Windows 11', version=None), steps_to_reproduce=['Windows 11を起動する', 'KABUTOのログイン画面を開く'], current_behavior='ログイン画面に「虚無」という文字が表示される', expected_behavior='正常にログインできる')}}\n"
     ]
    }
   ],
   "source": [
    "question = \"KABUTOにログインできない！パスワードは合ってるはずなのに…若手社員である山田太郎は、Windows 11 を立ち上げ、日課のように自社の業務システムKABUTOのログイン画面を開きます。しかし、そこには、意味をなさない「虚無」という文字だけがただひっそりと表示されていたのです。これは質問でもあり不具合の報告でもあります。岡本太郎さんに本件調査依頼します。\"  # noqa: E501\n",
    "\n",
    "# Stream the agent's response to the question\n",
    "for event in agent.stream(\n",
    "    input={\n",
    "        \"messages\": [\n",
    "            {\n",
    "                \"role\": \"user\",\n",
    "                \"content\": question,\n",
    "            }\n",
    "        ],\n",
    "    }\n",
    "):\n",
    "    print(\"-\" * 20)\n",
    "    print(f\"Event: {event}\")"
   ]
  },
  {
   "cell_type": "code",
   "execution_count": 4,
   "id": "ea28f1f5",
   "metadata": {},
   "outputs": [
    {
     "name": "stdout",
     "output_type": "stream",
     "text": [
      "{\n",
      "  \"title\": \"KABUTOログイン問題\",\n",
      "  \"description\": \"若手社員の山田太郎さんが、Windows 11環境で業務システムKABUTOにログインしようとした際、ログイン画面に「虚無」という文字が表示され、ログインできない問題が発生しました。\",\n",
      "  \"labels\": [\n",
      "    \"bug\",\n",
      "    \"question\"\n",
      "  ],\n",
      "  \"assignee\": \"岡本太郎\",\n",
      "  \"milestone\": null,\n",
      "  \"system_info\": {\n",
      "    \"os\": \"Windows 11\",\n",
      "    \"version\": null\n",
      "  },\n",
      "  \"steps_to_reproduce\": [\n",
      "    \"Windows 11を起動する\",\n",
      "    \"KABUTOのログイン画面を開く\"\n",
      "  ],\n",
      "  \"current_behavior\": \"ログイン画面に「虚無」という文字が表示される\",\n",
      "  \"expected_behavior\": \"正常にログインできる\"\n",
      "}\n"
     ]
    }
   ],
   "source": [
    "print(event[\"analyze\"][\"issue\"].model_dump_json(indent=2))  # noqa"
   ]
  }
 ],
 "metadata": {
  "kernelspec": {
   "display_name": "Python 3 (ipykernel)",
   "language": "python",
   "name": "python3"
  },
  "language_info": {
   "codemirror_mode": {
    "name": "ipython",
    "version": 3
   },
   "file_extension": ".py",
   "mimetype": "text/x-python",
   "name": "python",
   "nbconvert_exporter": "python",
   "pygments_lexer": "ipython3",
   "version": "3.12.0"
  }
 },
 "nbformat": 4,
 "nbformat_minor": 5
}
