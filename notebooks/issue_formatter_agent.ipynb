{
 "cells": [
  {
   "cell_type": "code",
   "execution_count": 1,
   "id": "8c3fc72d-5014-41f9-ad2f-5696a057acfe",
   "metadata": {},
   "outputs": [],
   "source": [
    "from dotenv import load_dotenv\n",
    "\n",
    "_ = load_dotenv(\n",
    "    override=True,\n",
    "    verbose=True,\n",
    ")"
   ]
  },
  {
   "cell_type": "code",
   "execution_count": 2,
   "id": "a96ceb73-447d-44b6-ba96-f5fa9f591b70",
   "metadata": {},
   "outputs": [],
   "source": [
    "from template_langgraph.agents.issue_formatter_agent.agent import IssueFormatterAgent\n",
    "\n",
    "# Create an instance of the agent\n",
    "agent = IssueFormatterAgent().create_graph()"
   ]
  },
  {
   "cell_type": "code",
   "execution_count": 3,
   "id": "c23a49b7-a3e9-4685-899e-3e7c02278360",
   "metadata": {},
   "outputs": [
    {
     "name": "stderr",
     "output_type": "stream",
     "text": [
      "2025-08-14 11:34:02,418 [    INFO] Analyzing issue with state: {'messages': [HumanMessage(content='KABUTOにログインできない！パスワードは合ってるはずなのに…若手社員である山田太郎は、Windows 11 を立ち上げ、日課のように自社の業務システムKABUTOのログイン画面を開きます。しかし、そこには、意味をなさない「虚無」という文字だけがただひっそりと表示されていたのです。これは質問でもあり不具合の報告でもあります。岡本太郎さんに本件調査依頼します。', additional_kwargs={}, response_metadata={}, id='5da5e35e-b768-48e3-93ee-1ba8a9bf5d62')]} (agent.py:33)\n"
     ]
    },
    {
     "name": "stdout",
     "output_type": "stream",
     "text": [
      "--------------------\n",
      "Event: {'analyze': {'messages': [HumanMessage(content='KABUTOにログインできない！パスワードは合ってるはずなのに…若手社員である山田太郎は、Windows 11 を立ち上げ、日課のように自社の業務システムKABUTOのログイン画面を開きます。しかし、そこには、意味をなさない「虚無」という文字だけがただひっそりと表示されていたのです。これは質問でもあり不具合の報告でもあります。岡本太郎さんに本件調査依頼します。', additional_kwargs={}, response_metadata={}, id='5da5e35e-b768-48e3-93ee-1ba8a9bf5d62')], 'issue': Issue(title='KABUTO Login Issue - \"虚無\" Error', description=\"Young employee Tarou Yamada faces a login issue with the company's system, KABUTO. Despite entering what he believes to be the correct password, he is met with the lone, enigmatic word '虚無' ('nothingness') on the login screen. We seek to understand the cause and find a resolution. \", labels=[<IssueLabel.BUG: 'bug'>, <IssueLabel.QUESTION: 'question'>], assignee='岡本太郎', milestone=None, system_info=SystemInfo(os='Windows 11', version=None), steps_to_reproduce=['Start Windows 11.', 'Open the KABUTO login page.', 'Enter the password and attempt to log in.'], current_behavior=\"The login screen displays '虚無' after entering the password.\", expected_behavior='Successful login into the KABUTO system without any error message.')}}\n"
     ]
    }
   ],
   "source": [
    "question = \"KABUTOにログインできない！パスワードは合ってるはずなのに…若手社員である山田太郎は、Windows 11 を立ち上げ、日課のように自社の業務システムKABUTOのログイン画面を開きます。しかし、そこには、意味をなさない「虚無」という文字だけがただひっそりと表示されていたのです。これは質問でもあり不具合の報告でもあります。岡本太郎さんに本件調査依頼します。\"  # noqa: E501\n",
    "\n",
    "# Stream the agent's response to the question\n",
    "for event in agent.stream(\n",
    "    input={\n",
    "        \"messages\": [\n",
    "            {\n",
    "                \"role\": \"user\",\n",
    "                \"content\": question,\n",
    "            }\n",
    "        ],\n",
    "    }\n",
    "):\n",
    "    print(\"-\" * 20)\n",
    "    print(f\"Event: {event}\")"
   ]
  },
  {
   "cell_type": "code",
   "execution_count": 4,
   "id": "ea28f1f5",
   "metadata": {},
   "outputs": [
    {
     "name": "stdout",
     "output_type": "stream",
     "text": [
      "{\n",
      "  \"title\": \"KABUTO Login Issue - \\\"虚無\\\" Error\",\n",
      "  \"description\": \"Young employee Tarou Yamada faces a login issue with the company's system, KABUTO. Despite entering what he believes to be the correct password, he is met with the lone, enigmatic word '虚無' ('nothingness') on the login screen. We seek to understand the cause and find a resolution. \",\n",
      "  \"labels\": [\n",
      "    \"bug\",\n",
      "    \"question\"\n",
      "  ],\n",
      "  \"assignee\": \"岡本太郎\",\n",
      "  \"milestone\": null,\n",
      "  \"system_info\": {\n",
      "    \"os\": \"Windows 11\",\n",
      "    \"version\": null\n",
      "  },\n",
      "  \"steps_to_reproduce\": [\n",
      "    \"Start Windows 11.\",\n",
      "    \"Open the KABUTO login page.\",\n",
      "    \"Enter the password and attempt to log in.\"\n",
      "  ],\n",
      "  \"current_behavior\": \"The login screen displays '虚無' after entering the password.\",\n",
      "  \"expected_behavior\": \"Successful login into the KABUTO system without any error message.\"\n",
      "}\n"
     ]
    }
   ],
   "source": [
    "print(event[\"analyze\"][\"issue\"].model_dump_json(indent=2))  # noqa"
   ]
  }
 ],
 "metadata": {
  "kernelspec": {
   "display_name": "Python 3 (ipykernel)",
   "language": "python",
   "name": "python3"
  },
  "language_info": {
   "codemirror_mode": {
    "name": "ipython",
    "version": 3
   },
   "file_extension": ".py",
   "mimetype": "text/x-python",
   "name": "python",
   "nbconvert_exporter": "python",
   "pygments_lexer": "ipython3",
   "version": "3.12.0"
  }
 },
 "nbformat": 4,
 "nbformat_minor": 5
}
